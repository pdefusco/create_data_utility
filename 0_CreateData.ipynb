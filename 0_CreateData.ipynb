{
 "cells": [
  {
   "cell_type": "code",
   "execution_count": 1,
   "metadata": {},
   "outputs": [
    {
     "name": "stdout",
     "output_type": "stream",
     "text": [
      "Requirement already satisfied: sklearn in ./.local/lib/python3.6/site-packages (0.0)\n",
      "Requirement already satisfied: scikit-learn in ./.local/lib/python3.6/site-packages (from sklearn) (0.23.1)\n",
      "Requirement already satisfied: threadpoolctl>=2.0.0 in ./.local/lib/python3.6/site-packages (from scikit-learn->sklearn) (2.1.0)\n",
      "Requirement already satisfied: joblib>=0.11 in ./.local/lib/python3.6/site-packages (from scikit-learn->sklearn) (0.15.1)\n",
      "Requirement already satisfied: numpy>=1.13.3 in /usr/local/lib/python3.6/site-packages (from scikit-learn->sklearn) (1.17.2)\n",
      "Requirement already satisfied: scipy>=0.19.1 in /usr/local/lib/python3.6/site-packages (from scikit-learn->sklearn) (1.4.1)\n",
      "\u001b[33mWARNING: You are using pip version 19.3.1; however, version 20.1.1 is available.\n",
      "You should consider upgrading via the 'pip install --upgrade pip' command.\u001b[0m\n"
     ]
    }
   ],
   "source": [
    "!pip3 install sklearn"
   ]
  },
  {
   "cell_type": "code",
   "execution_count": 2,
   "metadata": {},
   "outputs": [
    {
     "name": "stdout",
     "output_type": "stream",
     "text": [
      "0_CreateData.ipynb\t\t\t     7_PreDeploymentPipeline.ipynb\r\n",
      "1_ProblemStatement.ipynb\t\t     campaign_profit.csv\r\n",
      "2A_PySpark_LogisticRegression_Experiment.py  cdsw-build.sh\r\n",
      "2B_PySpark_GradientBoosting_Experiment.py    config.yml\r\n",
      "2_ModelSelection.ipynb\t\t\t     confusion_matrix_pretty_print.py\r\n",
      "3A_CampaignROI_ForBusiness.py\t\t     data\r\n",
      "3B_CampaignROI_withInputs.py\t\t     models\r\n",
      "3_CampaignROI.ipynb\t\t\t     other\r\n",
      "4_CustomerSegmentation.ipynb\t\t     requirements.txt\r\n",
      "5_UnknownCustomerSegmentation.ipynb\t     y_pred_final.csv\r\n",
      "6_CustomerSpendForecast.ipynb\t\t     y_test.csv\r\n",
      "7_CustomerBehaviorModel.py\r\n"
     ]
    }
   ],
   "source": [
    "!ls"
   ]
  },
  {
   "cell_type": "code",
   "execution_count": 6,
   "metadata": {},
   "outputs": [],
   "source": [
    "import pandas as pd\n",
    "import numpy as np\n",
    "import os\n",
    "import matplotlib.pyplot as plt"
   ]
  },
  {
   "cell_type": "code",
   "execution_count": 7,
   "metadata": {},
   "outputs": [],
   "source": [
    "camp_conversion_df = pd.read_csv('data/campaign_conversion.csv')"
   ]
  },
  {
   "cell_type": "code",
   "execution_count": 8,
   "metadata": {},
   "outputs": [
    {
     "data": {
      "text/html": [
       "<div>\n",
       "<style scoped>\n",
       "    .dataframe tbody tr th:only-of-type {\n",
       "        vertical-align: middle;\n",
       "    }\n",
       "\n",
       "    .dataframe tbody tr th {\n",
       "        vertical-align: top;\n",
       "    }\n",
       "\n",
       "    .dataframe thead th {\n",
       "        text-align: right;\n",
       "    }\n",
       "</style>\n",
       "<table border=\"1\" class=\"dataframe\">\n",
       "  <thead>\n",
       "    <tr style=\"text-align: right;\">\n",
       "      <th></th>\n",
       "      <th>recency</th>\n",
       "      <th>history</th>\n",
       "      <th>used_discount</th>\n",
       "      <th>used_bogo</th>\n",
       "      <th>zip_code</th>\n",
       "      <th>is_referral</th>\n",
       "      <th>channel</th>\n",
       "      <th>offer</th>\n",
       "      <th>conversion</th>\n",
       "    </tr>\n",
       "  </thead>\n",
       "  <tbody>\n",
       "    <tr>\n",
       "      <td>0</td>\n",
       "      <td>10</td>\n",
       "      <td>142.44</td>\n",
       "      <td>1</td>\n",
       "      <td>0</td>\n",
       "      <td>Surburban</td>\n",
       "      <td>0</td>\n",
       "      <td>Phone</td>\n",
       "      <td>Buy One Get One</td>\n",
       "      <td>0</td>\n",
       "    </tr>\n",
       "    <tr>\n",
       "      <td>1</td>\n",
       "      <td>6</td>\n",
       "      <td>329.08</td>\n",
       "      <td>1</td>\n",
       "      <td>1</td>\n",
       "      <td>Rural</td>\n",
       "      <td>1</td>\n",
       "      <td>Web</td>\n",
       "      <td>No Offer</td>\n",
       "      <td>0</td>\n",
       "    </tr>\n",
       "    <tr>\n",
       "      <td>2</td>\n",
       "      <td>7</td>\n",
       "      <td>180.65</td>\n",
       "      <td>0</td>\n",
       "      <td>1</td>\n",
       "      <td>Surburban</td>\n",
       "      <td>1</td>\n",
       "      <td>Web</td>\n",
       "      <td>Buy One Get One</td>\n",
       "      <td>0</td>\n",
       "    </tr>\n",
       "    <tr>\n",
       "      <td>3</td>\n",
       "      <td>9</td>\n",
       "      <td>675.83</td>\n",
       "      <td>1</td>\n",
       "      <td>0</td>\n",
       "      <td>Rural</td>\n",
       "      <td>1</td>\n",
       "      <td>Web</td>\n",
       "      <td>Discount</td>\n",
       "      <td>0</td>\n",
       "    </tr>\n",
       "    <tr>\n",
       "      <td>4</td>\n",
       "      <td>2</td>\n",
       "      <td>45.34</td>\n",
       "      <td>1</td>\n",
       "      <td>0</td>\n",
       "      <td>Urban</td>\n",
       "      <td>0</td>\n",
       "      <td>Web</td>\n",
       "      <td>Buy One Get One</td>\n",
       "      <td>0</td>\n",
       "    </tr>\n",
       "    <tr>\n",
       "      <td>...</td>\n",
       "      <td>...</td>\n",
       "      <td>...</td>\n",
       "      <td>...</td>\n",
       "      <td>...</td>\n",
       "      <td>...</td>\n",
       "      <td>...</td>\n",
       "      <td>...</td>\n",
       "      <td>...</td>\n",
       "      <td>...</td>\n",
       "    </tr>\n",
       "    <tr>\n",
       "      <td>63995</td>\n",
       "      <td>10</td>\n",
       "      <td>105.54</td>\n",
       "      <td>1</td>\n",
       "      <td>0</td>\n",
       "      <td>Urban</td>\n",
       "      <td>0</td>\n",
       "      <td>Web</td>\n",
       "      <td>Discount</td>\n",
       "      <td>0</td>\n",
       "    </tr>\n",
       "    <tr>\n",
       "      <td>63996</td>\n",
       "      <td>5</td>\n",
       "      <td>38.91</td>\n",
       "      <td>0</td>\n",
       "      <td>1</td>\n",
       "      <td>Urban</td>\n",
       "      <td>1</td>\n",
       "      <td>Phone</td>\n",
       "      <td>Discount</td>\n",
       "      <td>0</td>\n",
       "    </tr>\n",
       "    <tr>\n",
       "      <td>63997</td>\n",
       "      <td>6</td>\n",
       "      <td>29.99</td>\n",
       "      <td>1</td>\n",
       "      <td>0</td>\n",
       "      <td>Urban</td>\n",
       "      <td>1</td>\n",
       "      <td>Phone</td>\n",
       "      <td>Discount</td>\n",
       "      <td>0</td>\n",
       "    </tr>\n",
       "    <tr>\n",
       "      <td>63998</td>\n",
       "      <td>1</td>\n",
       "      <td>552.94</td>\n",
       "      <td>1</td>\n",
       "      <td>0</td>\n",
       "      <td>Surburban</td>\n",
       "      <td>1</td>\n",
       "      <td>Multichannel</td>\n",
       "      <td>Buy One Get One</td>\n",
       "      <td>0</td>\n",
       "    </tr>\n",
       "    <tr>\n",
       "      <td>63999</td>\n",
       "      <td>1</td>\n",
       "      <td>472.82</td>\n",
       "      <td>0</td>\n",
       "      <td>1</td>\n",
       "      <td>Surburban</td>\n",
       "      <td>0</td>\n",
       "      <td>Web</td>\n",
       "      <td>Discount</td>\n",
       "      <td>0</td>\n",
       "    </tr>\n",
       "  </tbody>\n",
       "</table>\n",
       "<p>64000 rows × 9 columns</p>\n",
       "</div>"
      ],
      "text/plain": [
       "       recency  history  used_discount  used_bogo   zip_code  is_referral  \\\n",
       "0           10   142.44              1          0  Surburban            0   \n",
       "1            6   329.08              1          1      Rural            1   \n",
       "2            7   180.65              0          1  Surburban            1   \n",
       "3            9   675.83              1          0      Rural            1   \n",
       "4            2    45.34              1          0      Urban            0   \n",
       "...        ...      ...            ...        ...        ...          ...   \n",
       "63995       10   105.54              1          0      Urban            0   \n",
       "63996        5    38.91              0          1      Urban            1   \n",
       "63997        6    29.99              1          0      Urban            1   \n",
       "63998        1   552.94              1          0  Surburban            1   \n",
       "63999        1   472.82              0          1  Surburban            0   \n",
       "\n",
       "            channel            offer  conversion  \n",
       "0             Phone  Buy One Get One           0  \n",
       "1               Web         No Offer           0  \n",
       "2               Web  Buy One Get One           0  \n",
       "3               Web         Discount           0  \n",
       "4               Web  Buy One Get One           0  \n",
       "...             ...              ...         ...  \n",
       "63995           Web         Discount           0  \n",
       "63996         Phone         Discount           0  \n",
       "63997         Phone         Discount           0  \n",
       "63998  Multichannel  Buy One Get One           0  \n",
       "63999           Web         Discount           0  \n",
       "\n",
       "[64000 rows x 9 columns]"
      ]
     },
     "execution_count": 8,
     "metadata": {},
     "output_type": "execute_result"
    }
   ],
   "source": [
    "camp_conversion_df"
   ]
  },
  {
   "cell_type": "code",
   "execution_count": 9,
   "metadata": {},
   "outputs": [],
   "source": [
    "mu, sigma = 1, .4 # mean and standard deviation\n",
    "s = np.random.normal(mu, sigma, 64000)"
   ]
  },
  {
   "cell_type": "code",
   "execution_count": 10,
   "metadata": {},
   "outputs": [],
   "source": [
    "camp_conversion_df['score'] = camp_conversion_df['conversion']+s"
   ]
  },
  {
   "cell_type": "code",
   "execution_count": 11,
   "metadata": {},
   "outputs": [
    {
     "data": {
      "text/plain": [
       "73330.45711992434"
      ]
     },
     "execution_count": 11,
     "metadata": {},
     "output_type": "execute_result"
    }
   ],
   "source": [
    "camp_conversion_df['score'].sum()"
   ]
  },
  {
   "cell_type": "code",
   "execution_count": 12,
   "metadata": {},
   "outputs": [
    {
     "data": {
      "text/plain": [
       "<matplotlib.axes._subplots.AxesSubplot at 0x7f0a57f68160>"
      ]
     },
     "execution_count": 12,
     "metadata": {},
     "output_type": "execute_result"
    },
    {
     "data": {
      "image/png": "[encoded data removed]",
      "text/plain": [
       "<matplotlib.figure.Figure at 0x7f0a583ae588>"
      ]
     },
     "metadata": {
      "needs_background": "light"
     },
     "output_type": "display_data"
    }
   ],
   "source": [
    "camp_conversion_df['score'].plot()"
   ]
  },
  {
   "cell_type": "code",
   "execution_count": 13,
   "metadata": {},
   "outputs": [
    {
     "data": {
      "text/plain": [
       "array([[1.        , 0.66235679],\n",
       "       [0.66235679, 1.        ]])"
      ]
     },
     "execution_count": 13,
     "metadata": {},
     "output_type": "execute_result"
    }
   ],
   "source": [
    "r = np.corrcoef(camp_conversion_df['score'], camp_conversion_df['conversion'])\n",
    "#checking corr with new feature\n",
    "r"
   ]
  },
  {
   "cell_type": "code",
   "execution_count": 14,
   "metadata": {},
   "outputs": [
    {
     "name": "stdout",
     "output_type": "stream",
     "text": [
      "Requirement already satisfied: faker in ./.local/lib/python3.6/site-packages (4.1.1)\n",
      "Requirement already satisfied: text-unidecode==1.3 in ./.local/lib/python3.6/site-packages (from faker) (1.3)\n",
      "Requirement already satisfied: python-dateutil>=2.4 in /usr/local/lib/python3.6/site-packages (from faker) (2.8.1)\n",
      "Requirement already satisfied: six>=1.5 in /usr/local/lib/python3.6/site-packages (from python-dateutil>=2.4->faker) (1.14.0)\n",
      "\u001b[33mWARNING: You are using pip version 19.3.1; however, version 20.1.1 is available.\n",
      "You should consider upgrading via the 'pip install --upgrade pip' command.\u001b[0m\n"
     ]
    }
   ],
   "source": [
    "!pip3 install faker"
   ]
  },
  {
   "cell_type": "code",
   "execution_count": 15,
   "metadata": {},
   "outputs": [],
   "source": [
    "from faker import Faker\n",
    "import random, string"
   ]
  },
  {
   "cell_type": "code",
   "execution_count": 16,
   "metadata": {},
   "outputs": [],
   "source": [
    "fake = Faker('en_US')"
   ]
  },
  {
   "cell_type": "markdown",
   "metadata": {},
   "source": [
    "SDNSLOGS_AGENT_V3"
   ]
  },
  {
   "cell_type": "code",
   "execution_count": 14,
   "metadata": {},
   "outputs": [],
   "source": [
    "final = {} \n",
    "#SDNSLOGS_AGENT_V3\n",
    "rg = 7500000\n",
    "final['TIME_STAMP'] = [fake.unix_time() for i in range(rg)]\n",
    "final['ACCOUNTID'] = [random.randint(10000,100000) for i in range(rg)]\n",
    "final['GROUPID'] = [random.randint(10000,100000) for i in range(rg)]\n",
    "final['POLICYID'] = [random.randint(10000,100000) for i in range(rg)]\n",
    "final['SOURCEIP'] = [''.join(random.choices(string.ascii_letters + string.digits, k=20)) for i in range(rg)]\n",
    "final['USERNAME'] = [''.join(random.choices(string.ascii_letters + string.digits, k=10)) for i in range(rg)]\n",
    "final['FQDN'] = [''.join(random.choices(string.ascii_letters + string.digits, k=20)) for i in range(rg)]\n",
    "final['TIMEPROCESSED'] = [random.randint(10000,100000) for i in range(rg)]\n",
    "final['BLOCKEDREASON'] = [random.randint(10000,100000) for i in range(rg)]\n",
    "final['REPUTATION'] = [random.randint(1,100) for i in range(rg)]\n",
    "final['CATEGORY'] = [''.join(random.choices(string.ascii_letters + string.digits, k=10)) for i in range(rg)]\n",
    "final['IPS'] = [''.join(random.choices(string.ascii_letters + string.digits, k=20)) for i in range(rg)]\n",
    "final['SDNSSERVER'] = [''.join(random.choices(string.ascii_letters + string.digits, k=20)) for i in range(rg)]\n",
    "final['CHECKSUM'] = [random.randint(10000,100000) for i in range(rg)]\n",
    "final['S3KEY'] = [''.join(random.choices(string.ascii_letters + string.digits, k=20)) for i in range(rg)]\n",
    "final['INSTANCEID'] = [''.join(random.choices(string.ascii_letters + string.digits, k=10)) for i in range(rg)]\n",
    "final['DEVICEID'] = [''.join(random.choices(string.ascii_letters + string.digits, k=20)) for i in range(rg)]\n",
    "final['AGENTVERSION'] = [''.join(random.choices(string.ascii_letters + string.digits, k=20)) for i in range(rg)]\n",
    "final['DOMAINNAME'] = [''.join(random.choices(string.ascii_letters + string.digits, k=20)) for i in range(rg)]\n",
    "final['HOSTNAME'] = [''.join(random.choices(string.ascii_letters + string.digits, k=10)) for i in range(rg)]\n",
    "final['VIRTUALMACHINEFLAG'] = [random.randint(1,100) for i in range(rg)]\n",
    "final['OSVERSION'] = [''.join(random.choices(string.ascii_letters + string.digits, k=20)) for i in range(rg)]\n",
    "final['QUERYTYPE'] = [random.randint(1,100) for i in range(rg)]\n",
    "final['BLOCKSERVER'] = [''.join(random.choices(string.ascii_letters + string.digits, k=20)) for i in range(rg)]\n",
    "final['POLICYSOURCE'] = [''.join(random.choices(string.ascii_letters + string.digits, k=10)) for i in range(rg)]"
   ]
  },
  {
   "cell_type": "code",
   "execution_count": 15,
   "metadata": {},
   "outputs": [],
   "source": [
    "personal_data = pd.DataFrame(final)"
   ]
  },
  {
   "cell_type": "code",
   "execution_count": 16,
   "metadata": {},
   "outputs": [
    {
     "data": {
      "text/plain": [
       "(7500000, 25)"
      ]
     },
     "execution_count": 16,
     "metadata": {},
     "output_type": "execute_result"
    }
   ],
   "source": [
    "personal_data.shape"
   ]
  },
  {
   "cell_type": "code",
   "execution_count": 17,
   "metadata": {},
   "outputs": [],
   "source": [
    "#df = pd.concat([personal_data, camp_conversion_df], axis=1)"
   ]
  },
  {
   "cell_type": "code",
   "execution_count": 18,
   "metadata": {},
   "outputs": [],
   "source": [
    "personal_data.to_csv('data/SDNSLOGS_AGENT_V3_large.csv', index=False)"
   ]
  },
  {
   "cell_type": "markdown",
   "metadata": {},
   "source": [
    "SDNS_CATEGORY_MV_V2"
   ]
  },
  {
   "cell_type": "code",
   "execution_count": null,
   "metadata": {},
   "outputs": [],
   "source": [
    "final = {} \n",
    "#SDNS_CATEGORY_MV_V2\n",
    "rg = 64000\n",
    "final['ACCOUNTID'] = [random.randint(10000,100000) for i in range(rg)]\n",
    "final['TIMESTAMP_HOUR'] = [fake.unix_time() for i in range(rg)]\n",
    "final['GROUPID'] = [random.randint(10000,100000) for i in range(rg)]\n",
    "final['HASH_VALUE'] = [''.join(random.choices(string.ascii_letters + string.digits, k=32)) for i in range(rg)]\n",
    "final['GATEGORYID'] = [''.join(random.choices(string.ascii_letters + string.digits, k=20)) for i in range(rg)]\n",
    "final['ALLOWED_COUNT'] = [random.randint(10000,100000) for i in range(rg)]\n",
    "final['BLOCKED_COUNT'] = [random.randint(10000,100000) for i in range(rg)]\n",
    "final['TOTAL_PROCESSEDTIME'] = [random.randint(10000,100000) for i in range(rg)]\n",
    "final['BLOCKEDREASON'] = [random.randint(10000,100000) for i in range(rg)]\n",
    "final['USERNAME'] = [''.join(random.choices(string.ascii_letters + string.digits, k=20)) for i in range(rg)]\n",
    "final['SOURCEIP'] = [''.join(random.choices(string.ascii_letters + string.digits, k=10)) for i in range(rg)]\n",
    "final['REPUTATION'] = [random.randint(10000,100000) for i in range(rg)]\n",
    "final['DOMAINNAME'] = [''.join(random.choices(string.ascii_letters + string.digits, k=20)) for i in range(rg)]\n",
    "final['HOSTNAME'] = [''.join(random.choices(string.ascii_letters + string.digits, k=20)) for i in range(rg)]\n",
    "final['ISAGENT'] = [random.randint(1,100) for i in range(rg)]\n",
    "final['INSTANCEID'] = [''.join(random.choices(string.ascii_letters + string.digits, k=10)) for i in range(rg)]\n",
    "final['DEVICEID'] = [''.join(random.choices(string.ascii_letters + string.digits, k=20)) for i in range(rg)]\n",
    "final['VIRTUALMACHINEFLAG'] = [random.randint(1,100) for i in range(rg)]\n",
    "final['POLICYID'] = [random.randint(1000,1000000) for i in range(rg)]"
   ]
  },
  {
   "cell_type": "code",
   "execution_count": null,
   "metadata": {},
   "outputs": [],
   "source": [
    "personal_data = pd.DataFrame(final)"
   ]
  },
  {
   "cell_type": "code",
   "execution_count": null,
   "metadata": {},
   "outputs": [],
   "source": [
    "personal_data.shape"
   ]
  },
  {
   "cell_type": "code",
   "execution_count": null,
   "metadata": {},
   "outputs": [],
   "source": [
    "personal_data.to_csv('data/SDNS_CATEGORY_MV_V2.csv', index=False)"
   ]
  },
  {
   "cell_type": "markdown",
   "metadata": {},
   "source": [
    "SDNS_FQDN_MV_V2"
   ]
  },
  {
   "cell_type": "code",
   "execution_count": null,
   "metadata": {},
   "outputs": [],
   "source": [
    "final = {} \n",
    "#SDNS_FQDN_MV_V2\n",
    "rg = 64000\n",
    "final['ACCOUNTID'] = [random.randint(10000,100000) for i in range(rg)]\n",
    "final['TIMESTAMP_HOUR'] = [fake.unix_time() for i in range(rg)]\n",
    "final['GROUPID'] = [random.randint(10000,100000) for i in range(rg)]\n",
    "final['HASH_VALUE'] = [''.join(random.choices(string.ascii_letters + string.digits, k=32)) for i in range(rg)]\n",
    "final['GATEGORYID'] = [''.join(random.choices(string.ascii_letters + string.digits, k=20)) for i in range(rg)]\n",
    "final['FQDN'] = [''.join(random.choices(string.ascii_letters + string.digits, k=10)) for i in range(rg)]\n",
    "final['ALLOWED_COUNT'] = [random.randint(10,1000) for i in range(rg)]\n",
    "final['BLOCKED_COUNT'] = [random.randint(10,1000) for i in range(rg)]\n",
    "final['TOTAL_PROCESSEDTIME'] = [random.randint(10000,1000000) for i in range(rg)]\n",
    "final['BLOCKEDREASON'] = [random.randint(10000,1000000) for i in range(rg)]\n",
    "final['USERNAME'] = [''.join(random.choices(string.ascii_letters + string.digits, k=10)) for i in range(rg)]\n",
    "final['SOURCEIP'] = [''.join(random.choices(string.ascii_letters + string.digits, k=10)) for i in range(rg)]\n",
    "final['DOMAINNAME'] = [''.join(random.choices(string.ascii_letters + string.digits, k=20)) for i in range(rg)]\n",
    "final['HOSTNAME'] = [random.randint(10000,100000) for i in range(rg)]\n",
    "final['ISAGENT'] = [random.randint(100,1000) for i in range(rg)]\n",
    "final['INSTANCEID'] = [''.join(random.choices(string.ascii_letters + string.digits, k=10)) for i in range(rg)]\n",
    "final['DEVICEID'] = [''.join(random.choices(string.ascii_letters + string.digits, k=20)) for i in range(rg)]"
   ]
  },
  {
   "cell_type": "code",
   "execution_count": null,
   "metadata": {},
   "outputs": [],
   "source": [
    "personal_data = pd.DataFrame(final)"
   ]
  },
  {
   "cell_type": "code",
   "execution_count": null,
   "metadata": {},
   "outputs": [],
   "source": [
    "personal_data.shape"
   ]
  },
  {
   "cell_type": "code",
   "execution_count": null,
   "metadata": {},
   "outputs": [],
   "source": [
    "personal_data.to_csv('data/SDNS_FQDN_MV_V2.csv', index=False)"
   ]
  },
  {
   "cell_type": "markdown",
   "metadata": {},
   "source": [
    "SDNS_AGENT_USAGE_TEST"
   ]
  },
  {
   "cell_type": "code",
   "execution_count": null,
   "metadata": {},
   "outputs": [],
   "source": [
    "final = {} \n",
    "#SDNS_AGENT_USAGE_TEST\n",
    "rg = 64000\n",
    "final['ACCOUNTID'] = [random.randint(10000,100000) for i in range(rg)]\n",
    "final['TIMESTAMP_DAY'] = [fake.unix_time() for i in range(rg)]\n",
    "final['IP_AGENT'] = [''.join(random.choices(string.ascii_letters + string.digits, k=20)) for i in range(rg)]\n",
    "final['LASTSEENO'] = [random.randint(10000,100000) for i in range(rg)]\n",
    "final['VIRTUALMACHINEFLAG'] = [random.randint(10,1000) for i in range(rg)]\n",
    "final['POLICYID'] = [random.randint(10000,100000) for i in range(rg)]\n",
    "final['OSVERSION'] = [''.join(random.choices(string.ascii_letters + string.digits, k=10)) for i in range(rg)]\n",
    "final['AGENTVERSION'] = [''.join(random.choices(string.ascii_letters + string.digits, k=20)) for i in range(rg)]\n",
    "final['INSTANCEID'] = [''.join(random.choices(string.ascii_letters + string.digits, k=20)) for i in range(rg)]\n",
    "final['DEVICEID'] = [''.join(random.choices(string.ascii_letters + string.digits, k=20)) for i in range(rg)]\n",
    "final['HOSTNAME'] = [''.join(random.choices(string.ascii_letters + string.digits, k=20)) for i in range(rg)]\n",
    "final['SDNSSERVER'] = [''.join(random.choices(string.ascii_letters + string.digits, k=10)) for i in range(rg)]\n",
    "final['TOTAL_BLOCKED'] = [random.randint(10000,100000) for i in range(rg)]\n",
    "final['LASTSEENTIME'] = [fake.unix_time() for i in range(rg)]\n",
    "final['BLOCKED_RESPONSE_TIME'] = [random.randint(10000,100000) for i in range(rg)]\n",
    "final['TOTAL_RESPONSE_TIME'] = [random.randint(10000,100000) for i in range(rg)]\n",
    "final['TOTAL_BOTNET_COUNT'] = [random.randint(10000,100000) for i in range(rg)]\n",
    "final['TOTAL_PHISHING_COUNT'] = [random.randint(10000,100000) for i in range(rg)]\n",
    "final['TOTAL_KEYLOGGER_COUNT'] = [random.randint(10000,100000) for i in range(rg)]\n",
    "final['TOTAL_MALWARE_COUNT'] = [random.randint(10000,100000) for i in range(rg)]\n",
    "final['TOTAL_BOTNET_TIME'] = [random.randint(10000,100000) for i in range(rg)]\n",
    "final['TOTAL_PHISHING_TIME'] = [random.randint(10000,100000) for i in range(rg)]\n",
    "final['TOTAL_KEYLOGGER_TIME'] = [random.randint(10000,100000) for i in range(rg)]\n",
    "final['TOTAL_MALWARE_TIME'] = [random.randint(10000,100000) for i in range(rg)]"
   ]
  },
  {
   "cell_type": "code",
   "execution_count": null,
   "metadata": {},
   "outputs": [],
   "source": [
    "personal_data = pd.DataFrame(final)"
   ]
  },
  {
   "cell_type": "code",
   "execution_count": null,
   "metadata": {},
   "outputs": [],
   "source": [
    "personal_data.shape"
   ]
  },
  {
   "cell_type": "code",
   "execution_count": null,
   "metadata": {},
   "outputs": [],
   "source": [
    "personal_data.to_csv('data/SDNS_AGENT_USAGE_TEST.csv', index=False)"
   ]
  },
  {
   "cell_type": "code",
   "execution_count": null,
   "metadata": {},
   "outputs": [],
   "source": []
  },
  {
   "cell_type": "code",
   "execution_count": null,
   "metadata": {},
   "outputs": [],
   "source": [
    "import decimal"
   ]
  },
  {
   "cell_type": "code",
   "execution_count": null,
   "metadata": {},
   "outputs": [],
   "source": [
    "float(decimal.Decimal(random.randrange(155, 389))/100)"
   ]
  },
  {
   "cell_type": "markdown",
   "metadata": {},
   "source": [
    "TI.URL_HISTORY"
   ]
  },
  {
   "cell_type": "code",
   "execution_count": null,
   "metadata": {},
   "outputs": [],
   "source": [
    "final = {} \n",
    "#URL_HISTORY\n",
    "rg = 64000\n",
    "final['HASHKEY'] = [''.join(random.choices(string.ascii_letters + string.digits, k=20)) for i in range(rg)]\n",
    "final['DATECRAWLED'] = [fake.unix_time() for i in range(rg)]\n",
    "final['URLHASH'] = [''.join(random.choices(string.ascii_letters + string.digits, k=20)) for i in range(rg)]\n",
    "final['URL'] = [''.join(random.choices(string.ascii_letters + string.digits, k=20)) for i in range(rg)]\n",
    "final['FQDN'] = [''.join(random.choices(string.ascii_letters + string.digits, k=20)) for i in range(rg)]\n",
    "final['IP'] = [''.join(random.choices(string.ascii_letters + string.digits, k=20)) for i in range(rg)]\n",
    "final['LATENCYMILLISEC'] = [random.randint(10000,100000) for i in range(rg)]\n",
    "final['REDIRECTURL'] = [''.join(random.choices(string.ascii_letters + string.digits, k=20)) for i in range(rg)]\n",
    "final['REDIRECTIP'] = [''.join(random.choices(string.ascii_letters + string.digits, k=20)) for i in range(rg)]\n",
    "final['HTTPSTATUSCODE'] = [random.randint(10000,100000) for i in range(rg)]\n",
    "final['COMPLETERESPONSE'] = [''.join(random.choices(string.ascii_letters + string.digits, k=20)) for i in range(rg)]\n",
    "final['CRAWLERRORCODE'] = [random.randint(10000,100000) for i in range(rg)]\n",
    "final['CODE'] = [random.randint(10000,100000) for i in range(rg)]\n",
    "final['IMAGECOUNT'] = [random.randint(10000,100000) for i in range(rg)]\n",
    "final['SCRIPTCOUNT'] = [random.randint(10000,100000) for i in range(rg)]\n",
    "final['POPUPCOUNT'] = [random.randint(10000,100000) for i in range(rg)]\n",
    "final['EXECOUNT'] = [random.randint(10000,100000) for i in range(rg)]\n",
    "final['LANGUAGECODE'] = [random.randint(10000,100000) for i in range(rg)]\n",
    "final['LANGUAGENAME'] = [''.join(random.choices(string.ascii_letters + string.digits, k=20)) for i in range(rg)]\n",
    "final['CONTENTKEY'] = [''.join(random.choices(string.ascii_letters + string.digits, k=20)) for i in range(rg)]\n",
    "final['CONTENTTYPE'] = [random.randint(10000,100000) for i in range(rg)]\n",
    "final['CATEGORYID_HIGH'] = [''.join(random.choices(string.ascii_letters + string.digits, k=20)) for i in range(rg)]\n",
    "final['DATECLASSIFIED_HIGH'] = [''.join(random.choices(string.ascii_letters + string.digits, k=20)) for i in range(rg)]\n",
    "final['CLASSIFIERID_HIGH'] = [''.join(random.choices(string.ascii_letters + string.digits, k=20)) for i in range(rg)]\n",
    "final['LANGUAGEID_HIGH'] = [''.join(random.choices(string.ascii_letters + string.digits, k=20)) for i in range(rg)]\n",
    "final['CONFIDENCE_HIGH'] = [''.join(random.choices(string.ascii_letters + string.digits, k=20)) for i in range(rg)]\n",
    "final['CATEGORYID_LOW'] = [''.join(random.choices(string.ascii_letters + string.digits, k=20)) for i in range(rg)]\n",
    "final['DATECLASSIFIED_LOW'] = [''.join(random.choices(string.ascii_letters + string.digits, k=20)) for i in range(rg)]\n",
    "final['CLASSIFIERID_LOW'] = [''.join(random.choices(string.ascii_letters + string.digits, k=20)) for i in range(rg)]\n",
    "final['LANGUAGEID_LOW'] = [''.join(random.choices(string.ascii_letters + string.digits, k=20)) for i in range(rg)]\n",
    "final['CONFIDENCE_LOW'] = [''.join(random.choices(string.ascii_letters + string.digits, k=20)) for i in range(rg)]\n",
    "final['THREATTYPE'] = [''.join(random.choices(string.ascii_letters + string.digits, k=10)) for i in range(rg)]\n",
    "final['THREATINFO'] = [''.join(random.choices(string.ascii_letters + string.digits, k=20)) for i in range(rg)]\n",
    "final['THSOPHOS'] = [''.join(random.choices(string.ascii_letters + string.digits, k=1)) for i in range(rg)]\n",
    "final['THSOPHOSNAME'] = [''.join(random.choices(string.ascii_letters + string.digits, k=20)) for i in range(rg)]\n",
    "final['THRTAP'] = [''.join(random.choices(string.ascii_letters + string.digits, k=1)) for i in range(rg)]\n",
    "final['THRTAPSCORE'] = [random.randint(1,10) for i in range(rg)]\n",
    "final['THPE'] = [''.join(random.choices(string.ascii_letters + string.digits, k=1)) for i in range(rg)]\n",
    "final['THPESCORE'] = [float(decimal.Decimal(random.randrange(155, 389))/100) for i in range(rg)]\n",
    "final['THPENORM'] = [float(decimal.Decimal(random.randrange(155, 389))/100) for i in range(rg)]\n",
    "final['THPEFPR'] = [float(decimal.Decimal(random.randrange(155, 389))/100) for i in range(rg)]\n",
    "final['THPEFNR'] = [float(decimal.Decimal(random.randrange(155, 389))/100) for i in range(rg)]\n",
    "final['THGSB'] = [''.join(random.choices(string.ascii_letters + string.digits, k=1)) for i in range(rg)]\n",
    "final['THGSBTYPE'] = [''.join(random.choices(string.ascii_letters + string.digits, k=20)) for i in range(rg)]\n",
    "final['THSKY'] = [''.join(random.choices(string.ascii_letters + string.digits, k=1)) for i in range(rg)]\n",
    "final['THSKYMD5'] = [''.join(random.choices(string.ascii_letters + string.digits, k=20)) for i in range(rg)]\n",
    "final['THSKYDETDATE'] = [fake.unix_time() for i in range(rg)]\n",
    "final['THSKYFILESIZE'] = [random.randint(10000,100000) for i in range(rg)]\n",
    "final['THSKYFSEEN'] = [fake.unix_time() for i in range(rg)]\n",
    "final['THSKYMALWARE'] = [''.join(random.choices(string.ascii_letters + string.digits, k=20)) for i in range(rg)]\n",
    "final['THSKYPCCOUNT'] = [random.randint(10000,100000) for i in range(rg)]\n",
    "final['FILEMD5'] = [''.join(random.choices(string.ascii_letters + string.digits, k=20)) for i in range(rg)]\n",
    "final['THREAT'] = [random.randint(10000,100000) for i in range(rg)]\n",
    "final['THREATJS'] = [''.join(random.choices(string.ascii_letters + string.digits, k=20)) for i in range(rg)]\n",
    "final['THREATAPP'] = [''.join(random.choices(string.ascii_letters + string.digits, k=20)) for i in range(rg)]\n",
    "final['THREATAPPNAME'] = [''.join(random.choices(string.ascii_letters + string.digits, k=20)) for i in range(rg)]\n",
    "final['THREATAPPOS'] = [''.join(random.choices(string.ascii_letters + string.digits, k=20)) for i in range(rg)]\n",
    "final['THREATAPPREP'] = [''.join(random.choices(string.ascii_letters + string.digits, k=20)) for i in range(rg)]\n",
    "final['THPDF'] = [''.join(random.choices(string.ascii_letters + string.digits, k=1)) for i in range(rg)]\n",
    "final['THPDFSCORE'] = [float(decimal.Decimal(random.randrange(155, 389))/100) for i in range(rg)]\n",
    "final['THPDFNORM'] = [float(decimal.Decimal(random.randrange(155, 389))/100) for i in range(rg)]\n",
    "final['THPDFFPR'] = [float(decimal.Decimal(random.randrange(155, 389))/100) for i in range(rg)]\n",
    "final['THPDFFNR'] = [float(decimal.Decimal(random.randrange(155, 389))/100) for i in range(rg)]\n",
    "final['ORIGINHASH'] = [''.join(random.choices(string.ascii_letters + string.digits, k=20)) for i in range(rg)]\n",
    "final['TYPE'] = [''.join(random.choices(string.ascii_letters + string.digits, k=20)) for i in range(rg)]\n",
    "final['XPOWEREDBY'] = [''.join(random.choices(string.ascii_letters + string.digits, k=20)) for i in range(rg)]\n",
    "final['THREATPESTATIC'] = [''.join(random.choices(string.ascii_letters + string.digits, k=1)) for i in range(rg)]\n",
    "final['THREATPESTATICSCORE'] = [float(decimal.Decimal(random.randrange(155, 389))/100) for i in range(rg)]"
   ]
  },
  {
   "cell_type": "code",
   "execution_count": null,
   "metadata": {},
   "outputs": [],
   "source": [
    "personal_data = pd.DataFrame(final)"
   ]
  },
  {
   "cell_type": "code",
   "execution_count": null,
   "metadata": {},
   "outputs": [],
   "source": [
    "personal_data.shape"
   ]
  },
  {
   "cell_type": "code",
   "execution_count": null,
   "metadata": {},
   "outputs": [],
   "source": [
    "personal_data.to_csv('data/URL_HISTORY.csv', index=False)"
   ]
  },
  {
   "cell_type": "markdown",
   "metadata": {},
   "source": [
    "URL_LINKS"
   ]
  },
  {
   "cell_type": "code",
   "execution_count": 17,
   "metadata": {},
   "outputs": [],
   "source": [
    "final = {} \n",
    "#URL_LINKS\n",
    "rg = 20000000\n",
    "final['URLHASH'] = [''.join(random.choices(string.ascii_letters + string.digits, k=32)) for i in range(rg)]\n",
    "final['DATECRAWLED'] = [fake.unix_time() for i in range(rg)]\n",
    "final['LINKHASH'] = [''.join(random.choices(string.ascii_letters + string.digits, k=32)) for i in range(rg)]\n",
    "final['LINK'] = [''.join(random.choices(string.ascii_letters + string.digits, k=20)) for i in range(rg)]\n",
    "final['FQDN'] = [''.join(random.choices(string.ascii_letters + string.digits, k=20)) for i in range(rg)]\n",
    "final['LINKFQDNHASH'] = [''.join(random.choices(string.ascii_letters + string.digits, k=20)) for i in range(rg)]\n",
    "final['EXTERNALLINK'] = [random.randint(10,100) for i in range(rg)]"
   ]
  },
  {
   "cell_type": "code",
   "execution_count": 18,
   "metadata": {},
   "outputs": [],
   "source": [
    "personal_data = pd.DataFrame(final)"
   ]
  },
  {
   "cell_type": "code",
   "execution_count": 19,
   "metadata": {},
   "outputs": [
    {
     "data": {
      "text/plain": [
       "(20000000, 7)"
      ]
     },
     "execution_count": 19,
     "metadata": {},
     "output_type": "execute_result"
    }
   ],
   "source": [
    "personal_data.shape"
   ]
  },
  {
   "cell_type": "code",
   "execution_count": 20,
   "metadata": {},
   "outputs": [],
   "source": [
    "personal_data.to_csv('data/URL_LINKS_large.csv', index=False)"
   ]
  },
  {
   "cell_type": "code",
   "execution_count": null,
   "metadata": {},
   "outputs": [],
   "source": []
  },
  {
   "cell_type": "code",
   "execution_count": null,
   "metadata": {},
   "outputs": [],
   "source": []
  },
  {
   "cell_type": "markdown",
   "metadata": {},
   "source": [
    "Creating time series data"
   ]
  },
  {
   "cell_type": "code",
   "execution_count": null,
   "metadata": {},
   "outputs": [],
   "source": [
    "!pip3 install TimeSynth"
   ]
  },
  {
   "cell_type": "code",
   "execution_count": null,
   "metadata": {},
   "outputs": [],
   "source": [
    "import timesynth as ts"
   ]
  },
  {
   "cell_type": "code",
   "execution_count": null,
   "metadata": {},
   "outputs": [],
   "source": [
    "# Initializing TimeSampler\n",
    "time_sampler = ts.TimeSampler(stop_time=100)\n",
    "# Sampling irregular time samples\n",
    "irregular_time_samples = time_sampler.sample_irregular_time(num_points=500, keep_percentage=50)"
   ]
  },
  {
   "cell_type": "code",
   "execution_count": null,
   "metadata": {},
   "outputs": [],
   "source": [
    "# Initializing Sinusoidal signal\n",
    "sinusoid = ts.signals.Sinusoidal(frequency=0.3)"
   ]
  },
  {
   "cell_type": "code",
   "execution_count": null,
   "metadata": {},
   "outputs": [],
   "source": [
    "# Initializing Gaussian noise\n",
    "white_noise = ts.noise.GaussianNoise(std=.3)"
   ]
  },
  {
   "cell_type": "code",
   "execution_count": null,
   "metadata": {},
   "outputs": [],
   "source": [
    "# Initializing TimeSeries class with the signal and noise objects\n",
    "timeseries = ts.TimeSeries(sinusoid, noise_generator=white_noise)"
   ]
  },
  {
   "cell_type": "code",
   "execution_count": null,
   "metadata": {},
   "outputs": [],
   "source": [
    "# Sampling using the irregular time samples\n",
    "samples, signals, errors = timeseries.sample(irregular_time_samples)"
   ]
  },
  {
   "cell_type": "code",
   "execution_count": null,
   "metadata": {},
   "outputs": [],
   "source": [
    "# Plotting the series\n",
    "plt.plot(irregular_time_samples, samples+50, marker='o', markersize=4)\n",
    "plt.xlabel('Time')\n",
    "plt.ylabel('Magnitude')\n",
    "plt.title('Irregularly sampled sinusoid with noise');"
   ]
  },
  {
   "cell_type": "code",
   "execution_count": null,
   "metadata": {},
   "outputs": [],
   "source": [
    "# Initializing Gaussian noise\n",
    "red_noise = ts.noise.RedNoise(std=0.5, tau=0.8)"
   ]
  },
  {
   "cell_type": "code",
   "execution_count": null,
   "metadata": {},
   "outputs": [],
   "source": [
    "# Initializing TimeSeries class with the signal and noise objects\n",
    "timeseries_corr = ts.TimeSeries(sinusoid, noise_generator=red_noise)"
   ]
  },
  {
   "cell_type": "code",
   "execution_count": null,
   "metadata": {},
   "outputs": [],
   "source": [
    "# Sampling using the irregular time samples\n",
    "samples_corr, signals_corr, errors_corr = timeseries_corr.sample(irregular_time_samples)"
   ]
  },
  {
   "cell_type": "code",
   "execution_count": null,
   "metadata": {},
   "outputs": [],
   "source": [
    "# Plotting the series\n",
    "plt.plot(irregular_time_samples, samples_corr, marker='o')\n",
    "plt.xlabel('Time')\n",
    "plt.ylabel('Magnitude')\n",
    "plt.title('Irregularly sampled sinusoid with red noise')"
   ]
  },
  {
   "cell_type": "code",
   "execution_count": null,
   "metadata": {},
   "outputs": [],
   "source": [
    "plt.plot(irregular_time_samples, errors_corr, marker='o')\n",
    "plt.xlabel('Time')\n",
    "plt.ylabel('Magnitude')\n",
    "plt.title('Red noise');"
   ]
  },
  {
   "cell_type": "code",
   "execution_count": null,
   "metadata": {},
   "outputs": [],
   "source": [
    "\n",
    "# Initializing TimeSampler\n",
    "time_sampler_pp = ts.TimeSampler(stop_time=20)\n",
    "# Sampling irregular time samples\n",
    "irregular_time_samples_pp = time_sampler_pp.sample_irregular_time(resolution=0.05, keep_percentage=50)"
   ]
  },
  {
   "cell_type": "code",
   "execution_count": null,
   "metadata": {},
   "outputs": [],
   "source": [
    "\n",
    "# Initializing Pseudoperiodic signal\n",
    "pseudo_periodic = ts.signals.PseudoPeriodic(frequency=2, freqSD=0.01, ampSD=0.5)"
   ]
  },
  {
   "cell_type": "code",
   "execution_count": null,
   "metadata": {},
   "outputs": [],
   "source": [
    "# Initializing TimeSeries class with the pseudoperiodic signal\n",
    "timeseries_pp = ts.TimeSeries(pseudo_periodic)"
   ]
  },
  {
   "cell_type": "code",
   "execution_count": null,
   "metadata": {},
   "outputs": [],
   "source": [
    "\n",
    "# Sampling using the irregular time samples\n",
    "samples_pp, signals_pp, errors_pp = timeseries_pp.sample(irregular_time_samples_pp)"
   ]
  },
  {
   "cell_type": "code",
   "execution_count": null,
   "metadata": {},
   "outputs": [],
   "source": [
    "# Plotting the series\n",
    "plt.plot(irregular_time_samples_pp, samples_pp, marker='o')\n",
    "plt.xlabel('Time')\n",
    "plt.ylabel('Magnitude')\n",
    "plt.title('Pseudoperiodic signal');"
   ]
  },
  {
   "cell_type": "code",
   "execution_count": null,
   "metadata": {},
   "outputs": [],
   "source": [
    "gp = ts.signals.GaussianProcess(kernel='Matern', nu=3./2)\n",
    "gp_series = ts.TimeSeries(signal_generator=gp)\n",
    "samples = gp_series.sample(irregular_time_samples)[0]"
   ]
  },
  {
   "cell_type": "code",
   "execution_count": null,
   "metadata": {},
   "outputs": [],
   "source": [
    "plt.plot(irregular_time_samples, samples, marker='o', markersize=4)\n",
    "plt.xlabel('Time')\n",
    "plt.ylabel('Value')\n",
    "plt.title('Gaussian Process signal with Matern 3/2-kernel');"
   ]
  },
  {
   "cell_type": "code",
   "execution_count": null,
   "metadata": {},
   "outputs": [],
   "source": [
    "car = ts.signals.CAR(ar_param=.99, sigma=5)\n",
    "car_series = ts.TimeSeries(signal_generator=car)\n",
    "samples = car_series.sample(irregular_time_samples)"
   ]
  },
  {
   "cell_type": "code",
   "execution_count": null,
   "metadata": {},
   "outputs": [],
   "source": [
    "plt.plot(irregular_time_samples, (samples[0]+35)*15, marker='o', markersize=4)\n",
    "plt.xlabel('Time')\n",
    "plt.ylabel('Value')\n",
    "plt.title('Example Continuous Autoregressive process');"
   ]
  },
  {
   "cell_type": "code",
   "execution_count": null,
   "metadata": {},
   "outputs": [],
   "source": [
    "import random"
   ]
  },
  {
   "cell_type": "code",
   "execution_count": null,
   "metadata": {},
   "outputs": [],
   "source": [
    "def create_cont_autoreg_process(n):\n",
    "    \n",
    "    dat = []\n",
    "    \n",
    "    sigma = 20\n",
    "    ar_param = .2\n",
    "    car = ts.signals.CAR(ar_param=ar_param, sigma=sigma)\n",
    "    car_series = ts.TimeSeries(signal_generator=car)\n",
    "    samples = car_series.sample(irregular_time_samples)\n",
    "    \n",
    "    dat.append((samples[0] + ar_param +5) * sigma)\n",
    "    \n",
    "    sigma = 4\n",
    "    ar_param = .2\n",
    "    car = ts.signals.CAR(ar_param=ar_param, sigma=sigma)\n",
    "    car_series = ts.TimeSeries(signal_generator=car)\n",
    "    samples = car_series.sample(irregular_time_samples)    \n",
    "    \n",
    "    dat.append((samples[0] + ar_param +5) * sigma)\n",
    "    \n",
    "    for i in range(n):\n",
    "        sigma = random.randint(1,35)\n",
    "        ar_param = random.randint(1,10)\n",
    "        car = ts.signals.CAR(ar_param=ar_param/10, sigma=sigma)\n",
    "        car_series = ts.TimeSeries(signal_generator=car)\n",
    "        samples = car_series.sample(irregular_time_samples)\n",
    "        \n",
    "        dat.append((samples[0] + ar_param +5) * sigma)\n",
    "        \n",
    "    return dat"
   ]
  },
  {
   "cell_type": "code",
   "execution_count": null,
   "metadata": {},
   "outputs": [],
   "source": [
    "ex = create_cont_autoreg_process(50)"
   ]
  },
  {
   "cell_type": "code",
   "execution_count": null,
   "metadata": {},
   "outputs": [],
   "source": [
    "for i in ex:\n",
    "    i[i<0] = 0"
   ]
  },
  {
   "cell_type": "code",
   "execution_count": null,
   "metadata": {},
   "outputs": [],
   "source": [
    "spend_df = pd.DataFrame(ex)"
   ]
  },
  {
   "cell_type": "code",
   "execution_count": null,
   "metadata": {},
   "outputs": [],
   "source": [
    "spend_df.to_csv('data/spend_new.csv', index=False)"
   ]
  },
  {
   "cell_type": "code",
   "execution_count": null,
   "metadata": {},
   "outputs": [],
   "source": []
  }
 ],
 "metadata": {
  "kernelspec": {
   "display_name": "Python 3",
   "language": "python",
   "name": "python3"
  },
  "language_info": {
   "codemirror_mode": {
    "name": "ipython",
    "version": 3
   },
   "file_extension": ".py",
   "mimetype": "text/x-python",
   "name": "python",
   "nbconvert_exporter": "python",
   "pygments_lexer": "ipython3",
   "version": "3.6.9"
  }
 },
 "nbformat": 4,
 "nbformat_minor": 4
}
