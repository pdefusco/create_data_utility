{
 "cells": [
  {
   "cell_type": "code",
   "execution_count": 1,
   "metadata": {},
   "outputs": [
    {
     "name": "stdout",
     "output_type": "stream",
     "text": [
      "Requirement already satisfied: sklearn in ./.local/lib/python3.7/site-packages (0.0)\n",
      "Requirement already satisfied: scikit-learn in ./.local/lib/python3.7/site-packages (from sklearn) (1.0.2)\n",
      "Requirement already satisfied: threadpoolctl>=2.0.0 in ./.local/lib/python3.7/site-packages (from scikit-learn->sklearn) (3.1.0)\n",
      "Requirement already satisfied: numpy>=1.14.6 in /usr/local/lib/python3.7/site-packages (from scikit-learn->sklearn) (1.19.4)\n",
      "Requirement already satisfied: joblib>=0.11 in ./.local/lib/python3.7/site-packages (from scikit-learn->sklearn) (1.1.0)\n",
      "Requirement already satisfied: scipy>=1.1.0 in ./.local/lib/python3.7/site-packages (from scikit-learn->sklearn) (1.7.3)\n"
     ]
    }
   ],
   "source": [
    "!pip3 install sklearn"
   ]
  },
  {
   "cell_type": "code",
   "execution_count": 2,
   "metadata": {},
   "outputs": [
    {
     "name": "stdout",
     "output_type": "stream",
     "text": [
      "0_CreateData_DaskTest.ipynb\t     0_TextGenerator.ipynb\n",
      "0_CreateData.ipynb\t\t     data\n",
      "0_CreateData_SparkExamples.ipynb     README.md\n",
      "0_CreateMarketingData.ipynb\t     requirements.txt\n",
      "0_CreateMarketingData_SDXDemo.ipynb  snow\n",
      "0_CreateWebrootData.ipynb\t     sonnets.txt\n",
      "0_DeepTextGenerator.ipynb\n"
     ]
    }
   ],
   "source": [
    "!ls"
   ]
  },
  {
   "cell_type": "code",
   "execution_count": 3,
   "metadata": {},
   "outputs": [],
   "source": [
    "import pandas as pd\n",
    "import numpy as np\n",
    "import os\n",
    "import matplotlib.pyplot as plt"
   ]
  },
  {
   "cell_type": "code",
   "execution_count": 4,
   "metadata": {},
   "outputs": [],
   "source": [
    "camp_conversion_df = pd.read_csv('data/campaign_conversion.csv')"
   ]
  },
  {
   "cell_type": "code",
   "execution_count": 6,
   "metadata": {},
   "outputs": [
    {
     "data": {
      "text/html": [
       "<div>\n",
       "<style scoped>\n",
       "    .dataframe tbody tr th:only-of-type {\n",
       "        vertical-align: middle;\n",
       "    }\n",
       "\n",
       "    .dataframe tbody tr th {\n",
       "        vertical-align: top;\n",
       "    }\n",
       "\n",
       "    .dataframe thead th {\n",
       "        text-align: right;\n",
       "    }\n",
       "</style>\n",
       "<table border=\"1\" class=\"dataframe\">\n",
       "  <thead>\n",
       "    <tr style=\"text-align: right;\">\n",
       "      <th></th>\n",
       "      <th>recency</th>\n",
       "      <th>history</th>\n",
       "      <th>used_discount</th>\n",
       "      <th>used_bogo</th>\n",
       "      <th>zip_code</th>\n",
       "      <th>is_referral</th>\n",
       "      <th>channel</th>\n",
       "      <th>offer</th>\n",
       "      <th>conversion</th>\n",
       "    </tr>\n",
       "  </thead>\n",
       "  <tbody>\n",
       "    <tr>\n",
       "      <th>0</th>\n",
       "      <td>10</td>\n",
       "      <td>142.44</td>\n",
       "      <td>1</td>\n",
       "      <td>0</td>\n",
       "      <td>Surburban</td>\n",
       "      <td>0</td>\n",
       "      <td>Phone</td>\n",
       "      <td>Buy One Get One</td>\n",
       "      <td>0</td>\n",
       "    </tr>\n",
       "    <tr>\n",
       "      <th>1</th>\n",
       "      <td>6</td>\n",
       "      <td>329.08</td>\n",
       "      <td>1</td>\n",
       "      <td>1</td>\n",
       "      <td>Rural</td>\n",
       "      <td>1</td>\n",
       "      <td>Web</td>\n",
       "      <td>No Offer</td>\n",
       "      <td>0</td>\n",
       "    </tr>\n",
       "    <tr>\n",
       "      <th>2</th>\n",
       "      <td>7</td>\n",
       "      <td>180.65</td>\n",
       "      <td>0</td>\n",
       "      <td>1</td>\n",
       "      <td>Surburban</td>\n",
       "      <td>1</td>\n",
       "      <td>Web</td>\n",
       "      <td>Buy One Get One</td>\n",
       "      <td>0</td>\n",
       "    </tr>\n",
       "    <tr>\n",
       "      <th>3</th>\n",
       "      <td>9</td>\n",
       "      <td>675.83</td>\n",
       "      <td>1</td>\n",
       "      <td>0</td>\n",
       "      <td>Rural</td>\n",
       "      <td>1</td>\n",
       "      <td>Web</td>\n",
       "      <td>Discount</td>\n",
       "      <td>0</td>\n",
       "    </tr>\n",
       "    <tr>\n",
       "      <th>4</th>\n",
       "      <td>2</td>\n",
       "      <td>45.34</td>\n",
       "      <td>1</td>\n",
       "      <td>0</td>\n",
       "      <td>Urban</td>\n",
       "      <td>0</td>\n",
       "      <td>Web</td>\n",
       "      <td>Buy One Get One</td>\n",
       "      <td>0</td>\n",
       "    </tr>\n",
       "    <tr>\n",
       "      <th>...</th>\n",
       "      <td>...</td>\n",
       "      <td>...</td>\n",
       "      <td>...</td>\n",
       "      <td>...</td>\n",
       "      <td>...</td>\n",
       "      <td>...</td>\n",
       "      <td>...</td>\n",
       "      <td>...</td>\n",
       "      <td>...</td>\n",
       "    </tr>\n",
       "    <tr>\n",
       "      <th>63995</th>\n",
       "      <td>10</td>\n",
       "      <td>105.54</td>\n",
       "      <td>1</td>\n",
       "      <td>0</td>\n",
       "      <td>Urban</td>\n",
       "      <td>0</td>\n",
       "      <td>Web</td>\n",
       "      <td>Discount</td>\n",
       "      <td>0</td>\n",
       "    </tr>\n",
       "    <tr>\n",
       "      <th>63996</th>\n",
       "      <td>5</td>\n",
       "      <td>38.91</td>\n",
       "      <td>0</td>\n",
       "      <td>1</td>\n",
       "      <td>Urban</td>\n",
       "      <td>1</td>\n",
       "      <td>Phone</td>\n",
       "      <td>Discount</td>\n",
       "      <td>0</td>\n",
       "    </tr>\n",
       "    <tr>\n",
       "      <th>63997</th>\n",
       "      <td>6</td>\n",
       "      <td>29.99</td>\n",
       "      <td>1</td>\n",
       "      <td>0</td>\n",
       "      <td>Urban</td>\n",
       "      <td>1</td>\n",
       "      <td>Phone</td>\n",
       "      <td>Discount</td>\n",
       "      <td>0</td>\n",
       "    </tr>\n",
       "    <tr>\n",
       "      <th>63998</th>\n",
       "      <td>1</td>\n",
       "      <td>552.94</td>\n",
       "      <td>1</td>\n",
       "      <td>0</td>\n",
       "      <td>Surburban</td>\n",
       "      <td>1</td>\n",
       "      <td>Multichannel</td>\n",
       "      <td>Buy One Get One</td>\n",
       "      <td>0</td>\n",
       "    </tr>\n",
       "    <tr>\n",
       "      <th>63999</th>\n",
       "      <td>1</td>\n",
       "      <td>472.82</td>\n",
       "      <td>0</td>\n",
       "      <td>1</td>\n",
       "      <td>Surburban</td>\n",
       "      <td>0</td>\n",
       "      <td>Web</td>\n",
       "      <td>Discount</td>\n",
       "      <td>0</td>\n",
       "    </tr>\n",
       "  </tbody>\n",
       "</table>\n",
       "<p>64000 rows × 9 columns</p>\n",
       "</div>"
      ],
      "text/plain": [
       "       recency  history  used_discount  used_bogo   zip_code  is_referral  \\\n",
       "0           10   142.44              1          0  Surburban            0   \n",
       "1            6   329.08              1          1      Rural            1   \n",
       "2            7   180.65              0          1  Surburban            1   \n",
       "3            9   675.83              1          0      Rural            1   \n",
       "4            2    45.34              1          0      Urban            0   \n",
       "...        ...      ...            ...        ...        ...          ...   \n",
       "63995       10   105.54              1          0      Urban            0   \n",
       "63996        5    38.91              0          1      Urban            1   \n",
       "63997        6    29.99              1          0      Urban            1   \n",
       "63998        1   552.94              1          0  Surburban            1   \n",
       "63999        1   472.82              0          1  Surburban            0   \n",
       "\n",
       "            channel            offer  conversion  \n",
       "0             Phone  Buy One Get One           0  \n",
       "1               Web         No Offer           0  \n",
       "2               Web  Buy One Get One           0  \n",
       "3               Web         Discount           0  \n",
       "4               Web  Buy One Get One           0  \n",
       "...             ...              ...         ...  \n",
       "63995           Web         Discount           0  \n",
       "63996         Phone         Discount           0  \n",
       "63997         Phone         Discount           0  \n",
       "63998  Multichannel  Buy One Get One           0  \n",
       "63999           Web         Discount           0  \n",
       "\n",
       "[64000 rows x 9 columns]"
      ]
     },
     "execution_count": 6,
     "metadata": {},
     "output_type": "execute_result"
    }
   ],
   "source": [
    "camp_conversion_df"
   ]
  },
  {
   "cell_type": "code",
   "execution_count": 7,
   "metadata": {},
   "outputs": [],
   "source": [
    "mu, sigma = 1, .4 # mean and standard deviation\n",
    "s = np.random.normal(mu, sigma, 64000)"
   ]
  },
  {
   "cell_type": "code",
   "execution_count": 8,
   "metadata": {},
   "outputs": [],
   "source": [
    "camp_conversion_df['score'] = camp_conversion_df['conversion']+s"
   ]
  },
  {
   "cell_type": "code",
   "execution_count": 9,
   "metadata": {},
   "outputs": [
    {
     "data": {
      "text/plain": [
       "73462.10025185687"
      ]
     },
     "execution_count": 9,
     "metadata": {},
     "output_type": "execute_result"
    }
   ],
   "source": [
    "camp_conversion_df['score'].sum()"
   ]
  },
  {
   "cell_type": "code",
   "execution_count": 10,
   "metadata": {},
   "outputs": [
    {
     "data": {
      "text/plain": [
       "<AxesSubplot:>"
      ]
     },
     "execution_count": 10,
     "metadata": {},
     "output_type": "execute_result"
    },
    {
     "data": {
      "image/png": "[encoded data removed]",
      "text/plain": [
       "<Figure size 432x288 with 1 Axes>"
      ]
     },
     "metadata": {
      "needs_background": "light"
     },
     "output_type": "display_data"
    }
   ],
   "source": [
    "camp_conversion_df['score'].plot()"
   ]
  },
  {
   "cell_type": "code",
   "execution_count": 11,
   "metadata": {},
   "outputs": [
    {
     "data": {
      "text/plain": [
       "array([[1.        , 0.66363036],\n",
       "       [0.66363036, 1.        ]])"
      ]
     },
     "execution_count": 11,
     "metadata": {},
     "output_type": "execute_result"
    }
   ],
   "source": [
    "r = np.corrcoef(camp_conversion_df['score'], camp_conversion_df['conversion'])\n",
    "#checking corr with new feature\n",
    "r"
   ]
  },
  {
   "cell_type": "code",
   "execution_count": 12,
   "metadata": {},
   "outputs": [
    {
     "name": "stdout",
     "output_type": "stream",
     "text": [
      "Requirement already satisfied: faker in ./.local/lib/python3.7/site-packages (13.3.4)\n",
      "Requirement already satisfied: python-dateutil>=2.4 in /runtime-addons/cmladdon-python-2.0.27-b64/opt/cmladdons/python/site-packages (from faker) (2.8.2)\n",
      "Requirement already satisfied: typing-extensions>=3.10.0.2 in /runtime-addons/cmladdon-python-2.0.27-b64/opt/cmladdons/python/site-packages (from faker) (4.1.1)\n",
      "Requirement already satisfied: six>=1.5 in /runtime-addons/cmladdon-python-2.0.27-b64/opt/cmladdons/python/site-packages (from python-dateutil>=2.4->faker) (1.16.0)\n"
     ]
    }
   ],
   "source": [
    "!pip3 install faker"
   ]
  },
  {
   "cell_type": "code",
   "execution_count": 13,
   "metadata": {},
   "outputs": [],
   "source": [
    "from faker import Faker"
   ]
  },
  {
   "cell_type": "code",
   "execution_count": 14,
   "metadata": {},
   "outputs": [],
   "source": [
    "fake = Faker('en_US')"
   ]
  },
  {
   "cell_type": "code",
   "execution_count": 15,
   "metadata": {},
   "outputs": [],
   "source": [
    "final = {} \n",
    "rg = 64000\n",
    "final['name'] = [fake.name() for i in range(rg)]\n",
    "final['street_address'] = [fake.street_address() for i in range(rg)]\n",
    "final['city'] = [fake.city() for i in range(rg)]\n",
    "final['postcode'] = [fake.postcode() for i in range(rg)]\n",
    "final['phone_number'] = [fake.phone_number() for i in range(rg)]\n",
    "final['job'] = [fake.job() for i in range(rg)]"
   ]
  },
  {
   "cell_type": "code",
   "execution_count": 16,
   "metadata": {},
   "outputs": [],
   "source": [
    "personal_data = pd.DataFrame(final)"
   ]
  },
  {
   "cell_type": "code",
   "execution_count": 17,
   "metadata": {},
   "outputs": [],
   "source": [
    "df = pd.concat([personal_data, camp_conversion_df], axis=1)"
   ]
  },
  {
   "cell_type": "code",
   "execution_count": null,
   "metadata": {},
   "outputs": [],
   "source": []
  },
  {
   "cell_type": "code",
   "execution_count": null,
   "metadata": {},
   "outputs": [],
   "source": []
  },
  {
   "cell_type": "code",
   "execution_count": null,
   "metadata": {},
   "outputs": [],
   "source": []
  },
  {
   "cell_type": "code",
   "execution_count": null,
   "metadata": {},
   "outputs": [],
   "source": []
  },
  {
   "cell_type": "code",
   "execution_count": null,
   "metadata": {},
   "outputs": [],
   "source": []
  },
  {
   "cell_type": "code",
   "execution_count": 18,
   "metadata": {},
   "outputs": [],
   "source": [
    "df.to_csv('data/df.csv', index=False)"
   ]
  },
  {
   "cell_type": "markdown",
   "metadata": {},
   "source": [
    "Creating time series data"
   ]
  },
  {
   "cell_type": "code",
   "execution_count": null,
   "metadata": {},
   "outputs": [
    {
     "name": "stdout",
     "output_type": "stream",
     "text": [
      "Collecting TimeSynth\n",
      "  Downloading https://files.pythonhosted.org/packages/4c/b9/af69b35b6076276024a7763ace0cbd2e275b0aa70049e4595c610be7bd1a/timesynth-0.2.4-py3-none-any.whl\n",
      "Collecting symengine==0.4\n",
      "\u001b[?25l  Downloading https://files.pythonhosted.org/packages/05/b7/bffa093806ef0eabfd0b2f17729c90e27c480df5cdadf84c0916c6220766/symengine-0.4.0-cp36-cp36m-manylinux1_x86_64.whl (11.2MB)\n",
      "\u001b[K     |████████████████████████████████| 11.2MB 12.3MB/s eta 0:00:01\n",
      "\u001b[?25hCollecting jitcxde-common==1.4.1\n",
      "  Downloading https://files.pythonhosted.org/packages/8d/60/8bfcab33fcc5a9800c53f758125a29c0ceae7ce69940f21721e588eefb2f/jitcxde_common-1.4.1.tar.gz\n",
      "Collecting sympy\n",
      "\u001b[?25l  Downloading https://files.pythonhosted.org/packages/e0/1f/8cbbf698e853019ac3dc5d60ca8f6be4ace4542b2f05f7b62949617fc98e/sympy-1.6.2-py3-none-any.whl (5.8MB)\n",
      "\u001b[K     |████████████████████████████████| 5.8MB 59.8MB/s eta 0:00:01\n",
      "\u001b[?25hCollecting jitcdde==1.4\n",
      "\u001b[?25l  Downloading https://files.pythonhosted.org/packages/d6/8e/813237ad4198154202d563249f475be88aa9547f9ce316267df284b9ce88/jitcdde-1.4.0.tar.gz (136kB)\n",
      "\u001b[K     |████████████████████████████████| 143kB 74.9MB/s eta 0:00:01\n",
      "\u001b[?25hRequirement already satisfied: numpy in /usr/local/lib/python3.6/site-packages (from TimeSynth) (1.17.2)\n",
      "Requirement already satisfied: scipy in /usr/local/lib/python3.6/site-packages (from TimeSynth) (1.4.1)\n",
      "Requirement already satisfied: jinja2 in /usr/local/lib/python3.6/site-packages (from jitcxde-common==1.4.1->TimeSynth) (2.10.3)\n",
      "Requirement already satisfied: setuptools in /usr/local/lib/python3.6/site-packages (from jitcxde-common==1.4.1->TimeSynth) (40.6.2)\n",
      "Collecting mpmath>=0.19\n",
      "\u001b[?25l  Downloading https://files.pythonhosted.org/packages/ca/63/3384ebb3b51af9610086b23ea976e6d27d6d97bf140a76a365bd77a3eb32/mpmath-1.1.0.tar.gz (512kB)\n",
      "\u001b[K     |████████████████████████████████| 522kB 62.9MB/s eta 0:00:01\n",
      "\u001b[?25hRequirement already satisfied: MarkupSafe>=0.23 in /usr/local/lib/python3.6/site-packages (from jinja2->jitcxde-common==1.4.1->TimeSynth) (1.1.1)\n",
      "Building wheels for collected packages: jitcxde-common, jitcdde, mpmath\n",
      "  Building wheel for jitcxde-common (setup.py) ... \u001b[?25ldone\n",
      "\u001b[?25h  Created wheel for jitcxde-common: filename=jitcxde_common-1.4.1-cp36-none-any.whl size=14933 sha256=f60d28eb72065b493a983b58eb49f819bdff8720cb210a9e5108548c800b705b\n",
      "  Stored in directory: /home/cdsw/.cache/pip/wheels/10/cd/50/f17ec174e477f7be77d38256b1ef5ca4e1da53dcdb85732817\n",
      "  Building wheel for jitcdde (setup.py) ... \u001b[?25ldone\n",
      "\u001b[?25h  Created wheel for jitcdde: filename=jitcdde-1.4.0-cp36-none-any.whl size=30647 sha256=3488bc0c50288f22acc4e4ba639c291f73548d6e051e6b24637811f98e377097\n",
      "  Stored in directory: /home/cdsw/.cache/pip/wheels/2c/14/0b/e7afe0b0f1dfd5327ad49307b98670c38a7df3bc4872d69178\n",
      "  Building wheel for mpmath (setup.py) ... \u001b[?25ldone\n",
      "\u001b[?25h  Created wheel for mpmath: filename=mpmath-1.1.0-cp36-none-any.whl size=532240 sha256=701d2a6ae1339c22387262e66310b400b165e2729a0149262b61967210c6a2c0\n",
      "  Stored in directory: /home/cdsw/.cache/pip/wheels/63/9d/8e/37c3f6506ed3f152733a699e92d8e0c9f5e5f01dea262f80ad\n",
      "Successfully built jitcxde-common jitcdde mpmath\n",
      "Installing collected packages: symengine, jitcxde-common, mpmath, sympy, jitcdde, TimeSynth\n"
     ]
    }
   ],
   "source": [
    "!pip3 install TimeSynth"
   ]
  },
  {
   "cell_type": "code",
   "execution_count": null,
   "metadata": {},
   "outputs": [],
   "source": [
    "import timesynth as ts"
   ]
  },
  {
   "cell_type": "code",
   "execution_count": null,
   "metadata": {},
   "outputs": [],
   "source": [
    "# Initializing TimeSampler\n",
    "time_sampler = ts.TimeSampler(stop_time=100)\n",
    "# Sampling irregular time samples\n",
    "irregular_time_samples = time_sampler.sample_irregular_time(num_points=500, keep_percentage=50)"
   ]
  },
  {
   "cell_type": "code",
   "execution_count": null,
   "metadata": {},
   "outputs": [],
   "source": [
    "# Initializing Sinusoidal signal\n",
    "sinusoid = ts.signals.Sinusoidal(frequency=0.3)"
   ]
  },
  {
   "cell_type": "code",
   "execution_count": null,
   "metadata": {},
   "outputs": [],
   "source": [
    "# Initializing Gaussian noise\n",
    "white_noise = ts.noise.GaussianNoise(std=.3)"
   ]
  },
  {
   "cell_type": "code",
   "execution_count": null,
   "metadata": {},
   "outputs": [],
   "source": [
    "# Initializing TimeSeries class with the signal and noise objects\n",
    "timeseries = ts.TimeSeries(sinusoid, noise_generator=white_noise)"
   ]
  },
  {
   "cell_type": "code",
   "execution_count": null,
   "metadata": {},
   "outputs": [],
   "source": [
    "# Sampling using the irregular time samples\n",
    "samples, signals, errors = timeseries.sample(irregular_time_samples)"
   ]
  },
  {
   "cell_type": "code",
   "execution_count": null,
   "metadata": {},
   "outputs": [],
   "source": [
    "# Plotting the series\n",
    "plt.plot(irregular_time_samples, samples+50, marker='o', markersize=4)\n",
    "plt.xlabel('Time')\n",
    "plt.ylabel('Magnitude')\n",
    "plt.title('Irregularly sampled sinusoid with noise');"
   ]
  },
  {
   "cell_type": "code",
   "execution_count": null,
   "metadata": {},
   "outputs": [],
   "source": [
    "# Initializing Gaussian noise\n",
    "red_noise = ts.noise.RedNoise(std=0.5, tau=0.8)"
   ]
  },
  {
   "cell_type": "code",
   "execution_count": null,
   "metadata": {},
   "outputs": [],
   "source": [
    "# Initializing TimeSeries class with the signal and noise objects\n",
    "timeseries_corr = ts.TimeSeries(sinusoid, noise_generator=red_noise)"
   ]
  },
  {
   "cell_type": "code",
   "execution_count": null,
   "metadata": {},
   "outputs": [],
   "source": [
    "# Sampling using the irregular time samples\n",
    "samples_corr, signals_corr, errors_corr = timeseries_corr.sample(irregular_time_samples)"
   ]
  },
  {
   "cell_type": "code",
   "execution_count": null,
   "metadata": {},
   "outputs": [],
   "source": [
    "# Plotting the series\n",
    "plt.plot(irregular_time_samples, samples_corr, marker='o')\n",
    "plt.xlabel('Time')\n",
    "plt.ylabel('Magnitude')\n",
    "plt.title('Irregularly sampled sinusoid with red noise')"
   ]
  },
  {
   "cell_type": "code",
   "execution_count": null,
   "metadata": {},
   "outputs": [],
   "source": [
    "plt.plot(irregular_time_samples, errors_corr, marker='o')\n",
    "plt.xlabel('Time')\n",
    "plt.ylabel('Magnitude')\n",
    "plt.title('Red noise');"
   ]
  },
  {
   "cell_type": "code",
   "execution_count": null,
   "metadata": {},
   "outputs": [],
   "source": [
    "\n",
    "# Initializing TimeSampler\n",
    "time_sampler_pp = ts.TimeSampler(stop_time=20)\n",
    "# Sampling irregular time samples\n",
    "irregular_time_samples_pp = time_sampler_pp.sample_irregular_time(resolution=0.05, keep_percentage=50)"
   ]
  },
  {
   "cell_type": "code",
   "execution_count": null,
   "metadata": {},
   "outputs": [],
   "source": [
    "\n",
    "# Initializing Pseudoperiodic signal\n",
    "pseudo_periodic = ts.signals.PseudoPeriodic(frequency=2, freqSD=0.01, ampSD=0.5)"
   ]
  },
  {
   "cell_type": "code",
   "execution_count": null,
   "metadata": {},
   "outputs": [],
   "source": [
    "# Initializing TimeSeries class with the pseudoperiodic signal\n",
    "timeseries_pp = ts.TimeSeries(pseudo_periodic)"
   ]
  },
  {
   "cell_type": "code",
   "execution_count": null,
   "metadata": {},
   "outputs": [],
   "source": [
    "\n",
    "# Sampling using the irregular time samples\n",
    "samples_pp, signals_pp, errors_pp = timeseries_pp.sample(irregular_time_samples_pp)"
   ]
  },
  {
   "cell_type": "code",
   "execution_count": null,
   "metadata": {},
   "outputs": [],
   "source": [
    "# Plotting the series\n",
    "plt.plot(irregular_time_samples_pp, samples_pp, marker='o')\n",
    "plt.xlabel('Time')\n",
    "plt.ylabel('Magnitude')\n",
    "plt.title('Pseudoperiodic signal');"
   ]
  },
  {
   "cell_type": "code",
   "execution_count": null,
   "metadata": {},
   "outputs": [],
   "source": [
    "gp = ts.signals.GaussianProcess(kernel='Matern', nu=3./2)\n",
    "gp_series = ts.TimeSeries(signal_generator=gp)\n",
    "samples = gp_series.sample(irregular_time_samples)[0]"
   ]
  },
  {
   "cell_type": "code",
   "execution_count": null,
   "metadata": {},
   "outputs": [],
   "source": [
    "plt.plot(irregular_time_samples, samples, marker='o', markersize=4)\n",
    "plt.xlabel('Time')\n",
    "plt.ylabel('Value')\n",
    "plt.title('Gaussian Process signal with Matern 3/2-kernel');"
   ]
  },
  {
   "cell_type": "code",
   "execution_count": null,
   "metadata": {},
   "outputs": [],
   "source": [
    "car = ts.signals.CAR(ar_param=.99, sigma=5)\n",
    "car_series = ts.TimeSeries(signal_generator=car)\n",
    "samples = car_series.sample(irregular_time_samples)"
   ]
  },
  {
   "cell_type": "code",
   "execution_count": null,
   "metadata": {},
   "outputs": [],
   "source": [
    "plt.plot(irregular_time_samples, (samples[0]+35)*15, marker='o', markersize=4)\n",
    "plt.xlabel('Time')\n",
    "plt.ylabel('Value')\n",
    "plt.title('Example Continuous Autoregressive process');"
   ]
  },
  {
   "cell_type": "code",
   "execution_count": null,
   "metadata": {},
   "outputs": [],
   "source": [
    "import random"
   ]
  },
  {
   "cell_type": "code",
   "execution_count": null,
   "metadata": {},
   "outputs": [],
   "source": [
    "def create_cont_autoreg_process(n):\n",
    "    \n",
    "    dat = []\n",
    "    \n",
    "    sigma = 20\n",
    "    ar_param = .2\n",
    "    car = ts.signals.CAR(ar_param=ar_param, sigma=sigma)\n",
    "    car_series = ts.TimeSeries(signal_generator=car)\n",
    "    samples = car_series.sample(irregular_time_samples)\n",
    "    \n",
    "    dat.append((samples[0] + ar_param +5) * sigma)\n",
    "    \n",
    "    sigma = 4\n",
    "    ar_param = .2\n",
    "    car = ts.signals.CAR(ar_param=ar_param, sigma=sigma)\n",
    "    car_series = ts.TimeSeries(signal_generator=car)\n",
    "    samples = car_series.sample(irregular_time_samples)    \n",
    "    \n",
    "    dat.append((samples[0] + ar_param +5) * sigma)\n",
    "    \n",
    "    for i in range(n):\n",
    "        sigma = random.randint(1,35)\n",
    "        ar_param = random.randint(1,10)\n",
    "        car = ts.signals.CAR(ar_param=ar_param/10, sigma=sigma)\n",
    "        car_series = ts.TimeSeries(signal_generator=car)\n",
    "        samples = car_series.sample(irregular_time_samples)\n",
    "        \n",
    "        dat.append((samples[0] + ar_param +5) * sigma)\n",
    "        \n",
    "    return dat"
   ]
  },
  {
   "cell_type": "code",
   "execution_count": null,
   "metadata": {},
   "outputs": [],
   "source": [
    "ex = create_cont_autoreg_process(50)"
   ]
  },
  {
   "cell_type": "code",
   "execution_count": null,
   "metadata": {},
   "outputs": [],
   "source": [
    "for i in ex:\n",
    "    i[i<0] = 0"
   ]
  },
  {
   "cell_type": "code",
   "execution_count": null,
   "metadata": {},
   "outputs": [],
   "source": [
    "spend_df = pd.DataFrame(ex)"
   ]
  },
  {
   "cell_type": "code",
   "execution_count": null,
   "metadata": {},
   "outputs": [],
   "source": [
    "spend_df.to_csv('data/spend_new.csv', index=False)"
   ]
  },
  {
   "cell_type": "code",
   "execution_count": null,
   "metadata": {},
   "outputs": [],
   "source": []
  }
 ],
 "metadata": {
  "kernelspec": {
   "display_name": "Python 3",
   "language": "python",
   "name": "python3"
  },
  "language_info": {
   "codemirror_mode": {
    "name": "ipython",
    "version": 3
   },
   "file_extension": ".py",
   "mimetype": "text/x-python",
   "name": "python",
   "nbconvert_exporter": "python",
   "pygments_lexer": "ipython3",
   "version": "3.7.12"
  }
 },
 "nbformat": 4,
 "nbformat_minor": 4
}
