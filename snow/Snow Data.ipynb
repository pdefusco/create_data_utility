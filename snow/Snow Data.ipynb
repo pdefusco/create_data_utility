{
 "cells": [
  {
   "cell_type": "markdown",
   "metadata": {},
   "source": [
    "# Snow Dummy Data"
   ]
  },
  {
   "cell_type": "code",
   "execution_count": 6,
   "metadata": {},
   "outputs": [],
   "source": [
    "import pandas as pd\n",
    "import numpy as np\n",
    "import os\n",
    "from faker import Faker\n",
    "import random, string"
   ]
  },
  {
   "cell_type": "code",
   "execution_count": 7,
   "metadata": {},
   "outputs": [],
   "source": [
    "fake = Faker('en_US')"
   ]
  },
  {
   "cell_type": "markdown",
   "metadata": {},
   "source": [
    "Case Table"
   ]
  },
  {
   "cell_type": "code",
   "execution_count": 23,
   "metadata": {},
   "outputs": [],
   "source": [
    "reviews_austin = pd.read_csv(\"../data/reviews_austin.csv.gz\", compression=\"infer\")\n",
    "reviews_boston = pd.read_csv(\"../data/reviews_boston.csv.gz\", compression=\"infer\")\n",
    "reviews_bristol = pd.read_csv(\"../data/reviews_bristol.csv.gz\", compression=\"infer\")\n",
    "reviews_capetown = pd.read_csv(\"../data/reviews_capetown.csv.gz\", compression=\"infer\")"
   ]
  },
  {
   "cell_type": "code",
   "execution_count": 27,
   "metadata": {},
   "outputs": [
    {
     "name": "stdout",
     "output_type": "stream",
     "text": [
      "(315661, 6)\n",
      "(126851, 6)\n",
      "(98580, 6)\n",
      "(347121, 6)\n"
     ]
    }
   ],
   "source": [
    "print(reviews_austin.shape)\n",
    "print(reviews_boston.shape)\n",
    "print(reviews_bristol.shape)\n",
    "print(reviews_capetown.shape)"
   ]
  },
  {
   "cell_type": "code",
   "execution_count": 26,
   "metadata": {},
   "outputs": [
    {
     "data": {
      "text/html": [
       "<div>\n",
       "<style scoped>\n",
       "    .dataframe tbody tr th:only-of-type {\n",
       "        vertical-align: middle;\n",
       "    }\n",
       "\n",
       "    .dataframe tbody tr th {\n",
       "        vertical-align: top;\n",
       "    }\n",
       "\n",
       "    .dataframe thead th {\n",
       "        text-align: right;\n",
       "    }\n",
       "</style>\n",
       "<table border=\"1\" class=\"dataframe\">\n",
       "  <thead>\n",
       "    <tr style=\"text-align: right;\">\n",
       "      <th></th>\n",
       "      <th>listing_id</th>\n",
       "      <th>id</th>\n",
       "      <th>date</th>\n",
       "      <th>reviewer_id</th>\n",
       "      <th>reviewer_name</th>\n",
       "      <th>comments</th>\n",
       "    </tr>\n",
       "  </thead>\n",
       "  <tbody>\n",
       "    <tr>\n",
       "      <td>0</td>\n",
       "      <td>3781</td>\n",
       "      <td>37776825</td>\n",
       "      <td>2015-07-10</td>\n",
       "      <td>36059247</td>\n",
       "      <td>Greg</td>\n",
       "      <td>The apartment was as advertised and Frank was ...</td>\n",
       "    </tr>\n",
       "    <tr>\n",
       "      <td>1</td>\n",
       "      <td>3781</td>\n",
       "      <td>41842494</td>\n",
       "      <td>2015-08-09</td>\n",
       "      <td>10459388</td>\n",
       "      <td>Tai</td>\n",
       "      <td>It was a pleasure to stay at Frank's place. Th...</td>\n",
       "    </tr>\n",
       "    <tr>\n",
       "      <td>2</td>\n",
       "      <td>3781</td>\n",
       "      <td>45282151</td>\n",
       "      <td>2015-09-01</td>\n",
       "      <td>12264652</td>\n",
       "      <td>Damien</td>\n",
       "      <td>The apartment description is entirely faithful...</td>\n",
       "    </tr>\n",
       "    <tr>\n",
       "      <td>3</td>\n",
       "      <td>3781</td>\n",
       "      <td>49022647</td>\n",
       "      <td>2015-09-30</td>\n",
       "      <td>41426327</td>\n",
       "      <td>Mike</td>\n",
       "      <td>Thoroughly enjoyed my time at Frank's home. Ha...</td>\n",
       "    </tr>\n",
       "    <tr>\n",
       "      <td>4</td>\n",
       "      <td>3781</td>\n",
       "      <td>52503327</td>\n",
       "      <td>2015-10-30</td>\n",
       "      <td>15151513</td>\n",
       "      <td>Ivan</td>\n",
       "      <td>Great value for the money! This location has e...</td>\n",
       "    </tr>\n",
       "  </tbody>\n",
       "</table>\n",
       "</div>"
      ],
      "text/plain": [
       "   listing_id        id        date  reviewer_id reviewer_name  \\\n",
       "0        3781  37776825  2015-07-10     36059247          Greg   \n",
       "1        3781  41842494  2015-08-09     10459388           Tai   \n",
       "2        3781  45282151  2015-09-01     12264652        Damien   \n",
       "3        3781  49022647  2015-09-30     41426327          Mike   \n",
       "4        3781  52503327  2015-10-30     15151513          Ivan   \n",
       "\n",
       "                                            comments  \n",
       "0  The apartment was as advertised and Frank was ...  \n",
       "1  It was a pleasure to stay at Frank's place. Th...  \n",
       "2  The apartment description is entirely faithful...  \n",
       "3  Thoroughly enjoyed my time at Frank's home. Ha...  \n",
       "4  Great value for the money! This location has e...  "
      ]
     },
     "execution_count": 26,
     "metadata": {},
     "output_type": "execute_result"
    }
   ],
   "source": [
    "reviews_boston.head()"
   ]
  },
  {
   "cell_type": "code",
   "execution_count": 37,
   "metadata": {},
   "outputs": [],
   "source": [
    "CT_groups = ['A','B','C','D','E']"
   ]
  },
  {
   "cell_type": "code",
   "execution_count": 38,
   "metadata": {},
   "outputs": [],
   "source": [
    "ct = {} \n",
    "#SDNS_AGENT_USAGE_TEST\n",
    "rg = 20000\n",
    "ct['CREATED'] = [fake.past_datetime() for i in range(rg)]\n",
    "ct['CASE_NUMBER'] = [random.randint(1000,9999) for i in range(rg)]\n",
    "ct['COMPANY'] = [''.join(random.choices(string.ascii_letters + string.digits, k=20)) for i in range(rg)]\n",
    "ct['DESCRIPTION'] = reviews_austin['comments'].iloc[:rg]\n",
    "ct['RESOLVED_AT'] = [fake.past_datetime() for i in range(rg)]\n",
    "ct['GROUP'] = [random.choice(CT_groups) for i in range(rg)]\n",
    "ct['LOCATION'] = [fake.city() for i in range(rg)]\n",
    "ct['TEXT'] = reviews_boston['comments'].iloc[:rg]"
   ]
  },
  {
   "cell_type": "code",
   "execution_count": 39,
   "metadata": {},
   "outputs": [],
   "source": [
    "#pd.DataFrame([fake.past_datetime() for i in range(2)]).astype(\"int64\") // 10**9"
   ]
  },
  {
   "cell_type": "code",
   "execution_count": 40,
   "metadata": {},
   "outputs": [],
   "source": [
    "case_table = pd.DataFrame(ct)\n",
    "case_table.to_csv(\"../data/case_table.csv\", index=False)"
   ]
  },
  {
   "cell_type": "markdown",
   "metadata": {},
   "source": [
    "Knowledge Table"
   ]
  },
  {
   "cell_type": "code",
   "execution_count": 41,
   "metadata": {},
   "outputs": [],
   "source": [
    "KT_groups = ['A','B','C','D','E','F','G']"
   ]
  },
  {
   "cell_type": "code",
   "execution_count": 42,
   "metadata": {},
   "outputs": [],
   "source": [
    "kt = {} \n",
    "#SDNS_AGENT_USAGE_TEST\n",
    "rg = 20000\n",
    "kt['ARTICLE_NUMBER'] = [random.randint(1000,9999) for i in range(rg)]\n",
    "kt['CASE_NUMBER'] = [random.randint(1000,9999) for i in range(rg)]\n",
    "kt['DESCRIPTION'] = reviews_bristol['comments'].iloc[:rg]\n",
    "kt['BODY'] = reviews_capetown['comments'].iloc[:rg]\n",
    "kt['ATTACHED_ON'] = [fake.past_datetime() for i in range(rg)]\n",
    "kt['GROUP'] = [random.choice(KT_groups) for i in range(rg)]"
   ]
  },
  {
   "cell_type": "code",
   "execution_count": 43,
   "metadata": {},
   "outputs": [],
   "source": [
    "kt_table = pd.DataFrame(kt)\n",
    "kt_table.to_csv(\"../data/knowledge_table.csv\", index=False)"
   ]
  },
  {
   "cell_type": "code",
   "execution_count": 44,
   "metadata": {},
   "outputs": [
    {
     "data": {
      "text/html": [
       "<div>\n",
       "<style scoped>\n",
       "    .dataframe tbody tr th:only-of-type {\n",
       "        vertical-align: middle;\n",
       "    }\n",
       "\n",
       "    .dataframe tbody tr th {\n",
       "        vertical-align: top;\n",
       "    }\n",
       "\n",
       "    .dataframe thead th {\n",
       "        text-align: right;\n",
       "    }\n",
       "</style>\n",
       "<table border=\"1\" class=\"dataframe\">\n",
       "  <thead>\n",
       "    <tr style=\"text-align: right;\">\n",
       "      <th></th>\n",
       "      <th>ARTICLE_NUMBER</th>\n",
       "      <th>CASE_NUMBER</th>\n",
       "      <th>DESCRIPTION</th>\n",
       "      <th>BODY</th>\n",
       "      <th>ATTACHED_ON</th>\n",
       "      <th>GROUP</th>\n",
       "    </tr>\n",
       "  </thead>\n",
       "  <tbody>\n",
       "    <tr>\n",
       "      <td>0</td>\n",
       "      <td>4630</td>\n",
       "      <td>8774</td>\n",
       "      <td>Our stay with Marcus in Bristol was fantastic ...</td>\n",
       "      <td>Great home away from home! Bridgette and Marth...</td>\n",
       "      <td>2020-09-08 22:43:26</td>\n",
       "      <td>A</td>\n",
       "    </tr>\n",
       "    <tr>\n",
       "      <td>1</td>\n",
       "      <td>2879</td>\n",
       "      <td>1399</td>\n",
       "      <td>Marcus is a brilliant, warm and friendly host....</td>\n",
       "      <td>Das Cottage liegt ruhig und sicher.  Wir haben...</td>\n",
       "      <td>2020-08-31 14:06:16</td>\n",
       "      <td>D</td>\n",
       "    </tr>\n",
       "    <tr>\n",
       "      <td>2</td>\n",
       "      <td>1421</td>\n",
       "      <td>8257</td>\n",
       "      <td>My mum Angela and I have stayed at Marcus' ama...</td>\n",
       "      <td>This cottage was a great base from which to ex...</td>\n",
       "      <td>2020-09-03 17:01:11</td>\n",
       "      <td>G</td>\n",
       "    </tr>\n",
       "    <tr>\n",
       "      <td>3</td>\n",
       "      <td>2216</td>\n",
       "      <td>5181</td>\n",
       "      <td>Marcus was an exceptional host. I only stayed ...</td>\n",
       "      <td>I had a great stay.  All my needs were well ex...</td>\n",
       "      <td>2020-09-20 10:21:58</td>\n",
       "      <td>F</td>\n",
       "    </tr>\n",
       "    <tr>\n",
       "      <td>4</td>\n",
       "      <td>6964</td>\n",
       "      <td>8342</td>\n",
       "      <td>Marcus was welcoming, easy going and very help...</td>\n",
       "      <td>Excellent host. She provided everything we cou...</td>\n",
       "      <td>2020-08-27 06:54:31</td>\n",
       "      <td>F</td>\n",
       "    </tr>\n",
       "  </tbody>\n",
       "</table>\n",
       "</div>"
      ],
      "text/plain": [
       "   ARTICLE_NUMBER  CASE_NUMBER  \\\n",
       "0            4630         8774   \n",
       "1            2879         1399   \n",
       "2            1421         8257   \n",
       "3            2216         5181   \n",
       "4            6964         8342   \n",
       "\n",
       "                                         DESCRIPTION  \\\n",
       "0  Our stay with Marcus in Bristol was fantastic ...   \n",
       "1  Marcus is a brilliant, warm and friendly host....   \n",
       "2  My mum Angela and I have stayed at Marcus' ama...   \n",
       "3  Marcus was an exceptional host. I only stayed ...   \n",
       "4  Marcus was welcoming, easy going and very help...   \n",
       "\n",
       "                                                BODY         ATTACHED_ON GROUP  \n",
       "0  Great home away from home! Bridgette and Marth... 2020-09-08 22:43:26     A  \n",
       "1  Das Cottage liegt ruhig und sicher.  Wir haben... 2020-08-31 14:06:16     D  \n",
       "2  This cottage was a great base from which to ex... 2020-09-03 17:01:11     G  \n",
       "3  I had a great stay.  All my needs were well ex... 2020-09-20 10:21:58     F  \n",
       "4  Excellent host. She provided everything we cou... 2020-08-27 06:54:31     F  "
      ]
     },
     "execution_count": 44,
     "metadata": {},
     "output_type": "execute_result"
    }
   ],
   "source": [
    "kt_table.head()"
   ]
  },
  {
   "cell_type": "code",
   "execution_count": null,
   "metadata": {},
   "outputs": [],
   "source": []
  }
 ],
 "metadata": {
  "kernelspec": {
   "display_name": "Python 3",
   "language": "python",
   "name": "python3"
  },
  "language_info": {
   "codemirror_mode": {
    "name": "ipython",
    "version": 3
   },
   "file_extension": ".py",
   "mimetype": "text/x-python",
   "name": "python",
   "nbconvert_exporter": "python",
   "pygments_lexer": "ipython3",
   "version": "3.6.10"
  }
 },
 "nbformat": 4,
 "nbformat_minor": 4
}
