{
 "cells": [
  {
   "cell_type": "code",
   "execution_count": 1,
   "metadata": {},
   "outputs": [
    {
     "name": "stdout",
     "output_type": "stream",
     "text": [
      "Requirement already satisfied: sklearn in ./.local/lib/python3.6/site-packages (0.0)\n",
      "Requirement already satisfied: scikit-learn in ./.local/lib/python3.6/site-packages (from sklearn) (0.23.1)\n",
      "Requirement already satisfied: numpy>=1.13.3 in /usr/local/lib/python3.6/site-packages (from scikit-learn->sklearn) (1.17.2)\n",
      "Requirement already satisfied: threadpoolctl>=2.0.0 in ./.local/lib/python3.6/site-packages (from scikit-learn->sklearn) (2.1.0)\n",
      "Requirement already satisfied: scipy>=0.19.1 in /usr/local/lib/python3.6/site-packages (from scikit-learn->sklearn) (1.4.1)\n",
      "Requirement already satisfied: joblib>=0.11 in ./.local/lib/python3.6/site-packages (from scikit-learn->sklearn) (0.16.0)\n",
      "\u001b[33mWARNING: You are using pip version 19.3.1; however, version 20.1.1 is available.\n",
      "You should consider upgrading via the 'pip install --upgrade pip' command.\u001b[0m\n"
     ]
    }
   ],
   "source": [
    "!pip3 install sklearn"
   ]
  },
  {
   "cell_type": "code",
   "execution_count": 2,
   "metadata": {},
   "outputs": [
    {
     "name": "stdout",
     "output_type": "stream",
     "text": [
      "0_CreateData.ipynb\t\t   SDNS_FQDN_MV_V2_twentyk.csv\r\n",
      "README.md\t\t\t   SDNSLOGS_AGENT_V3_small.csv\r\n",
      "SDNS_AGENT_USAGE_TEST_small.csv    SDNSLOGS_AGENT_V3_twentyk.csv\r\n",
      "SDNS_AGENT_USAGE_TEST_twentyk.csv  URL_HISTORY_small.csv\r\n",
      "SDNS_CATEGORY_MV_V2_small.csv\t   URL_HISTORY_twentyk.csv\r\n",
      "SDNS_CATEGORY_MV_V2_twentyk.csv    URL_LINKS_small.csv\r\n",
      "SDNS_FQDN_MV_V2_small.csv\t   URL_LINKS_twentyk.csv\r\n"
     ]
    }
   ],
   "source": [
    "!ls"
   ]
  },
  {
   "cell_type": "code",
   "execution_count": 3,
   "metadata": {},
   "outputs": [],
   "source": [
    "import pandas as pd\n",
    "import numpy as np\n",
    "import os\n",
    "import matplotlib.pyplot as plt"
   ]
  },
  {
   "cell_type": "code",
   "execution_count": 4,
   "metadata": {},
   "outputs": [
    {
     "name": "stdout",
     "output_type": "stream",
     "text": [
      "Requirement already satisfied: faker in ./.local/lib/python3.6/site-packages (4.1.1)\n",
      "Requirement already satisfied: text-unidecode==1.3 in ./.local/lib/python3.6/site-packages (from faker) (1.3)\n",
      "Requirement already satisfied: python-dateutil>=2.4 in /usr/local/lib/python3.6/site-packages (from faker) (2.8.1)\n",
      "Requirement already satisfied: six>=1.5 in /usr/local/lib/python3.6/site-packages (from python-dateutil>=2.4->faker) (1.14.0)\n",
      "\u001b[33mWARNING: You are using pip version 19.3.1; however, version 20.1.1 is available.\n",
      "You should consider upgrading via the 'pip install --upgrade pip' command.\u001b[0m\n"
     ]
    }
   ],
   "source": [
    "!pip3 install faker"
   ]
  },
  {
   "cell_type": "code",
   "execution_count": 5,
   "metadata": {},
   "outputs": [],
   "source": [
    "from faker import Faker\n",
    "import random, string"
   ]
  },
  {
   "cell_type": "code",
   "execution_count": 6,
   "metadata": {},
   "outputs": [],
   "source": [
    "fake = Faker('en_US')"
   ]
  },
  {
   "cell_type": "markdown",
   "metadata": {},
   "source": [
    "SDNSLOGS_AGENT_V3"
   ]
  },
  {
   "cell_type": "code",
   "execution_count": 63,
   "metadata": {},
   "outputs": [],
   "source": [
    "final = {} \n",
    "#SDNSLOGS_AGENT_V3\n",
    "rg = 20000\n",
    "final['ACCOUNTID'] = [random.randint(10000,100000) for i in range(rg)]\n",
    "final['TIME_STAMP'] = [fake.past_datetime() for i in range(rg)]\n",
    "final['GROUPID'] = [random.randint(10000,100000) for i in range(rg)]\n",
    "final['POLICYID'] = [random.randint(10000,100000) for i in range(rg)]\n",
    "final['SOURCEIP'] = [''.join(random.choices(string.ascii_letters + string.digits, k=20)) for i in range(rg)]\n",
    "final['USERNAME'] = [''.join(random.choices(string.ascii_letters + string.digits, k=10)) for i in range(rg)]\n",
    "final['FQDN'] = [''.join(random.choices(string.ascii_letters + string.digits, k=20)) for i in range(rg)]\n",
    "final['TIMEPROCESSED'] = [random.randint(10000,100000) for i in range(rg)]\n",
    "final['BLOCKEDREASON'] = [random.randint(10000,100000) for i in range(rg)]\n",
    "final['REPUTATION'] = [random.randint(1,100) for i in range(rg)]\n",
    "final['CATEGORY'] = [''.join(random.choices(string.ascii_letters + string.digits, k=10)) for i in range(rg)]\n",
    "final['IPS'] = [''.join(random.choices(string.ascii_letters + string.digits, k=20)) for i in range(rg)]\n",
    "final['SDNSSERVER'] = [''.join(random.choices(string.ascii_letters + string.digits, k=20)) for i in range(rg)]\n",
    "final['CHECKSUM'] = [random.randint(10000,100000) for i in range(rg)]\n",
    "final['S3KEY'] = [''.join(random.choices(string.ascii_letters + string.digits, k=20)) for i in range(rg)]\n",
    "final['INSTANCEID'] = [''.join(random.choices(string.ascii_letters + string.digits, k=10)) for i in range(rg)]\n",
    "final['DEVICEID'] = [''.join(random.choices(string.ascii_letters + string.digits, k=20)) for i in range(rg)]\n",
    "final['AGENTVERSION'] = [''.join(random.choices(string.ascii_letters + string.digits, k=20)) for i in range(rg)]\n",
    "final['DOMAINNAME'] = [''.join(random.choices(string.ascii_letters + string.digits, k=20)) for i in range(rg)]\n",
    "final['HOSTNAME'] = [''.join(random.choices(string.ascii_letters + string.digits, k=10)) for i in range(rg)]\n",
    "final['VIRTUALMACHINEFLAG'] = [random.randint(1,100) for i in range(rg)]\n",
    "final['OSVERSION'] = [''.join(random.choices(string.ascii_letters + string.digits, k=20)) for i in range(rg)]\n",
    "final['QUERYTYPE'] = [random.randint(1,100) for i in range(rg)]\n",
    "final['BLOCKSERVER'] = [''.join(random.choices(string.ascii_letters + string.digits, k=20)) for i in range(rg)]\n",
    "final['POLICYSOURCE'] = [''.join(random.choices(string.ascii_letters + string.digits, k=10)) for i in range(rg)]"
   ]
  },
  {
   "cell_type": "code",
   "execution_count": 65,
   "metadata": {},
   "outputs": [],
   "source": [
    "output_df = pd.DataFrame(final)"
   ]
  },
  {
   "cell_type": "code",
   "execution_count": 66,
   "metadata": {},
   "outputs": [
    {
     "data": {
      "text/plain": [
       "(20000, 25)"
      ]
     },
     "execution_count": 66,
     "metadata": {},
     "output_type": "execute_result"
    }
   ],
   "source": [
    "output_df.shape"
   ]
  },
  {
   "cell_type": "code",
   "execution_count": 64,
   "metadata": {},
   "outputs": [],
   "source": [
    "#df = pd.concat([personal_data, camp_conversion_df], axis=1)"
   ]
  },
  {
   "cell_type": "code",
   "execution_count": 67,
   "metadata": {},
   "outputs": [],
   "source": [
    "output_df.to_csv('SDNSLOGS_AGENT_V3_twentyk.csv', index=False)"
   ]
  },
  {
   "cell_type": "code",
   "execution_count": 68,
   "metadata": {},
   "outputs": [],
   "source": [
    "del output_df"
   ]
  },
  {
   "cell_type": "markdown",
   "metadata": {},
   "source": [
    "SDNS_CATEGORY_MV_V2"
   ]
  },
  {
   "cell_type": "code",
   "execution_count": 69,
   "metadata": {},
   "outputs": [],
   "source": [
    "final = {} \n",
    "#SDNS_CATEGORY_MV_V2\n",
    "rg = 20000\n",
    "final['ACCOUNTID'] = [random.randint(10000,100000) for i in range(rg)]\n",
    "final['TIMESTAMP_HOUR'] = [fake.past_datetime() for i in range(rg)]\n",
    "final['GROUPID'] = [random.randint(10000,100000) for i in range(rg)]\n",
    "final['HASH_VALUE'] = [''.join(random.choices(string.ascii_letters + string.digits, k=32)) for i in range(rg)]\n",
    "final['GATEGORYID'] = [''.join(random.choices(string.ascii_letters + string.digits, k=20)) for i in range(rg)]\n",
    "final['ALLOWED_COUNT'] = [random.randint(10000,100000) for i in range(rg)]\n",
    "final['BLOCKED_COUNT'] = [random.randint(10000,100000) for i in range(rg)]\n",
    "final['TOTAL_PROCESSEDTIME'] = [random.randint(10000,100000) for i in range(rg)]\n",
    "final['BLOCKEDREASON'] = [random.randint(10000,100000) for i in range(rg)]\n",
    "final['USERNAME'] = [''.join(random.choices(string.ascii_letters + string.digits, k=20)) for i in range(rg)]\n",
    "final['SOURCEIP'] = [''.join(random.choices(string.ascii_letters + string.digits, k=10)) for i in range(rg)]\n",
    "final['REPUTATION'] = [random.randint(10000,100000) for i in range(rg)]\n",
    "final['DOMAINNAME'] = [''.join(random.choices(string.ascii_letters + string.digits, k=20)) for i in range(rg)]\n",
    "final['HOSTNAME'] = [''.join(random.choices(string.ascii_letters + string.digits, k=20)) for i in range(rg)]\n",
    "final['ISAGENT'] = [random.randint(1,100) for i in range(rg)]\n",
    "final['INSTANCEID'] = [''.join(random.choices(string.ascii_letters + string.digits, k=10)) for i in range(rg)]\n",
    "final['DEVICEID'] = [''.join(random.choices(string.ascii_letters + string.digits, k=20)) for i in range(rg)]\n",
    "final['VIRTUALMACHINEFLAG'] = [random.randint(1,100) for i in range(rg)]\n",
    "final['POLICYID'] = [random.randint(1000,1000000) for i in range(rg)]"
   ]
  },
  {
   "cell_type": "code",
   "execution_count": 70,
   "metadata": {},
   "outputs": [],
   "source": [
    "output_df = pd.DataFrame(final)"
   ]
  },
  {
   "cell_type": "code",
   "execution_count": 71,
   "metadata": {},
   "outputs": [
    {
     "data": {
      "text/plain": [
       "(20000, 19)"
      ]
     },
     "execution_count": 71,
     "metadata": {},
     "output_type": "execute_result"
    }
   ],
   "source": [
    "output_df.shape"
   ]
  },
  {
   "cell_type": "code",
   "execution_count": 72,
   "metadata": {},
   "outputs": [],
   "source": [
    "output_df.to_csv('SDNS_CATEGORY_MV_V2_twentyk.csv', index=False)"
   ]
  },
  {
   "cell_type": "code",
   "execution_count": 73,
   "metadata": {},
   "outputs": [],
   "source": [
    "del output_df"
   ]
  },
  {
   "cell_type": "markdown",
   "metadata": {},
   "source": [
    "SDNS_FQDN_MV_V2"
   ]
  },
  {
   "cell_type": "code",
   "execution_count": 74,
   "metadata": {},
   "outputs": [],
   "source": [
    "final = {} \n",
    "#SDNS_FQDN_MV_V2\n",
    "rg = 20000\n",
    "final['ACCOUNTID'] = [random.randint(10000,100000) for i in range(rg)]\n",
    "final['TIMESTAMP_HOUR'] = [fake.past_datetime() for i in range(rg)]\n",
    "final['GROUPID'] = [random.randint(10000,100000) for i in range(rg)]\n",
    "final['HASH_VALUE'] = [''.join(random.choices(string.ascii_letters + string.digits, k=32)) for i in range(rg)]\n",
    "final['GATEGORYID'] = [''.join(random.choices(string.ascii_letters + string.digits, k=20)) for i in range(rg)]\n",
    "final['FQDN'] = [''.join(random.choices(string.ascii_letters + string.digits, k=10)) for i in range(rg)]\n",
    "final['ALLOWED_COUNT'] = [random.randint(10,1000) for i in range(rg)]\n",
    "final['BLOCKED_COUNT'] = [random.randint(10,1000) for i in range(rg)]\n",
    "final['TOTAL_PROCESSEDTIME'] = [random.randint(10000,1000000) for i in range(rg)]\n",
    "final['BLOCKEDREASON'] = [random.randint(10000,1000000) for i in range(rg)]\n",
    "final['USERNAME'] = [''.join(random.choices(string.ascii_letters + string.digits, k=10)) for i in range(rg)]\n",
    "final['SOURCEIP'] = [''.join(random.choices(string.ascii_letters + string.digits, k=10)) for i in range(rg)]\n",
    "final['DOMAINNAME'] = [''.join(random.choices(string.ascii_letters + string.digits, k=20)) for i in range(rg)]\n",
    "final['HOSTNAME'] = [random.randint(10000,100000) for i in range(rg)]\n",
    "final['ISAGENT'] = [random.randint(100,1000) for i in range(rg)]\n",
    "final['INSTANCEID'] = [''.join(random.choices(string.ascii_letters + string.digits, k=10)) for i in range(rg)]\n",
    "final['DEVICEID'] = [''.join(random.choices(string.ascii_letters + string.digits, k=20)) for i in range(rg)]"
   ]
  },
  {
   "cell_type": "code",
   "execution_count": 75,
   "metadata": {},
   "outputs": [],
   "source": [
    "output_df = pd.DataFrame(final)"
   ]
  },
  {
   "cell_type": "code",
   "execution_count": 76,
   "metadata": {},
   "outputs": [
    {
     "data": {
      "text/plain": [
       "(20000, 17)"
      ]
     },
     "execution_count": 76,
     "metadata": {},
     "output_type": "execute_result"
    }
   ],
   "source": [
    "output_df.shape"
   ]
  },
  {
   "cell_type": "code",
   "execution_count": 77,
   "metadata": {},
   "outputs": [],
   "source": [
    "output_df.to_csv('SDNS_FQDN_MV_V2_twentyk.csv', index=False)"
   ]
  },
  {
   "cell_type": "code",
   "execution_count": 78,
   "metadata": {},
   "outputs": [],
   "source": [
    "del output_df"
   ]
  },
  {
   "cell_type": "markdown",
   "metadata": {},
   "source": [
    "SDNS_AGENT_USAGE_TEST"
   ]
  },
  {
   "cell_type": "code",
   "execution_count": 79,
   "metadata": {},
   "outputs": [],
   "source": [
    "final = {} \n",
    "#SDNS_AGENT_USAGE_TEST\n",
    "rg = 20000\n",
    "final['ACCOUNTID'] = [random.randint(10000,100000) for i in range(rg)]\n",
    "final['TIMESTAMP_DAY'] = [fake.past_datetime() for i in range(rg)]\n",
    "final['IP_AGENT'] = [''.join(random.choices(string.ascii_letters + string.digits, k=20)) for i in range(rg)]\n",
    "final['LASTSEENO'] = [random.randint(10000,100000) for i in range(rg)]\n",
    "final['VIRTUALMACHINEFLAG'] = [random.randint(10,1000) for i in range(rg)]\n",
    "final['POLICYID'] = [random.randint(10000,100000) for i in range(rg)]\n",
    "final['OSVERSION'] = [''.join(random.choices(string.ascii_letters + string.digits, k=10)) for i in range(rg)]\n",
    "final['AGENTVERSION'] = [''.join(random.choices(string.ascii_letters + string.digits, k=20)) for i in range(rg)]\n",
    "final['INSTANCEID'] = [''.join(random.choices(string.ascii_letters + string.digits, k=20)) for i in range(rg)]\n",
    "final['DEVICEID'] = [''.join(random.choices(string.ascii_letters + string.digits, k=20)) for i in range(rg)]\n",
    "final['HOSTNAME'] = [''.join(random.choices(string.ascii_letters + string.digits, k=20)) for i in range(rg)]\n",
    "final['SDNSSERVER'] = [''.join(random.choices(string.ascii_letters + string.digits, k=10)) for i in range(rg)]\n",
    "final['TOTAL_BLOCKED'] = [random.randint(10000,100000) for i in range(rg)]\n",
    "final['LASTSEENTIME'] = [fake.past_datetime() for i in range(rg)]\n",
    "final['BLOCKED_RESPONSE_TIME'] = [random.randint(10000,100000) for i in range(rg)]\n",
    "final['TOTAL_RESPONSE_TIME'] = [random.randint(10000,100000) for i in range(rg)]\n",
    "final['TOTAL_BOTNET_COUNT'] = [random.randint(10000,100000) for i in range(rg)]\n",
    "final['TOTAL_PHISHING_COUNT'] = [random.randint(10000,100000) for i in range(rg)]\n",
    "final['TOTAL_KEYLOGGER_COUNT'] = [random.randint(10000,100000) for i in range(rg)]\n",
    "final['TOTAL_MALWARE_COUNT'] = [random.randint(10000,100000) for i in range(rg)]\n",
    "final['TOTAL_BOTNET_TIME'] = [random.randint(10000,100000) for i in range(rg)]\n",
    "final['TOTAL_PHISHING_TIME'] = [random.randint(10000,100000) for i in range(rg)]\n",
    "final['TOTAL_KEYLOGGER_TIME'] = [random.randint(10000,100000) for i in range(rg)]\n",
    "final['TOTAL_MALWARE_TIME'] = [random.randint(10000,100000) for i in range(rg)]"
   ]
  },
  {
   "cell_type": "code",
   "execution_count": 80,
   "metadata": {},
   "outputs": [],
   "source": [
    "output_df = pd.DataFrame(final)"
   ]
  },
  {
   "cell_type": "code",
   "execution_count": 81,
   "metadata": {},
   "outputs": [
    {
     "data": {
      "text/plain": [
       "(20000, 24)"
      ]
     },
     "execution_count": 81,
     "metadata": {},
     "output_type": "execute_result"
    }
   ],
   "source": [
    "output_df.shape"
   ]
  },
  {
   "cell_type": "code",
   "execution_count": 82,
   "metadata": {},
   "outputs": [],
   "source": [
    "output_df.to_csv('SDNS_AGENT_USAGE_TEST_twentyk.csv', index=False)"
   ]
  },
  {
   "cell_type": "code",
   "execution_count": 83,
   "metadata": {},
   "outputs": [],
   "source": [
    "del output_df"
   ]
  },
  {
   "cell_type": "code",
   "execution_count": 8,
   "metadata": {},
   "outputs": [],
   "source": [
    "import decimal"
   ]
  },
  {
   "cell_type": "code",
   "execution_count": 9,
   "metadata": {},
   "outputs": [],
   "source": [
    "#float(decimal.Decimal(random.randrange(155, 389))/100)"
   ]
  },
  {
   "cell_type": "markdown",
   "metadata": {},
   "source": [
    "TI.URL_HISTORY"
   ]
  },
  {
   "cell_type": "code",
   "execution_count": 10,
   "metadata": {},
   "outputs": [],
   "source": [
    "final = {} \n",
    "#URL_HISTORY\n",
    "rg = 20000\n",
    "final['HASHKEY'] = [''.join(random.choices(string.ascii_letters + string.digits, k=20)) for i in range(rg)]\n",
    "final['URLHASH'] = [''.join(random.choices(string.ascii_letters + string.digits, k=20)) for i in range(rg)]\n",
    "final['DATECRAWLED'] = [fake.past_datetime() for i in range(rg)]\n",
    "final['URL'] = [''.join(random.choices(string.ascii_letters + string.digits, k=20)) for i in range(rg)]\n",
    "final['FQDN'] = [''.join(random.choices(string.ascii_letters + string.digits, k=20)) for i in range(rg)]\n",
    "final['IP'] = [''.join(random.choices(string.ascii_letters + string.digits, k=20)) for i in range(rg)]\n",
    "final['LATENCYMILLISEC'] = [random.randint(10000,100000) for i in range(rg)]\n",
    "final['REDIRECTURL'] = [''.join(random.choices(string.ascii_letters + string.digits, k=20)) for i in range(rg)]\n",
    "final['REDIRECTIP'] = [''.join(random.choices(string.ascii_letters + string.digits, k=20)) for i in range(rg)]\n",
    "final['HTTPSTATUSCODE'] = [random.randint(10000,100000) for i in range(rg)]\n",
    "final['COMPLETERESPONSE'] = [''.join(random.choices(string.ascii_letters + string.digits, k=20)) for i in range(rg)]\n",
    "final['CRAWLERRORCODE'] = [random.randint(10000,100000) for i in range(rg)]\n",
    "final['CODE'] = [random.randint(10000,100000) for i in range(rg)]\n",
    "final['IMAGECOUNT'] = [random.randint(10000,100000) for i in range(rg)]\n",
    "final['SCRIPTCOUNT'] = [random.randint(10000,100000) for i in range(rg)]\n",
    "final['POPUPCOUNT'] = [random.randint(10000,100000) for i in range(rg)]\n",
    "final['EXECOUNT'] = [random.randint(10000,100000) for i in range(rg)]\n",
    "final['LANGUAGECODE'] = [random.randint(10000,100000) for i in range(rg)]\n",
    "final['LANGUAGENAME'] = [''.join(random.choices(string.ascii_letters + string.digits, k=20)) for i in range(rg)]\n",
    "final['CONTENTKEY'] = [''.join(random.choices(string.ascii_letters + string.digits, k=20)) for i in range(rg)]\n",
    "final['CONTENTTYPE'] = [random.randint(10000,100000) for i in range(rg)]\n",
    "final['CATEGORYID_HIGH'] = [''.join(random.choices(string.ascii_letters + string.digits, k=20)) for i in range(rg)]\n",
    "final['DATECLASSIFIED_HIGH'] = [''.join(random.choices(string.ascii_letters + string.digits, k=20)) for i in range(rg)]\n",
    "final['CLASSIFIERID_HIGH'] = [''.join(random.choices(string.ascii_letters + string.digits, k=20)) for i in range(rg)]\n",
    "final['LANGUAGEID_HIGH'] = [''.join(random.choices(string.ascii_letters + string.digits, k=20)) for i in range(rg)]\n",
    "final['CONFIDENCE_HIGH'] = [''.join(random.choices(string.ascii_letters + string.digits, k=20)) for i in range(rg)]\n",
    "final['CATEGORYID_LOW'] = [''.join(random.choices(string.ascii_letters + string.digits, k=20)) for i in range(rg)]\n",
    "final['DATECLASSIFIED_LOW'] = [''.join(random.choices(string.ascii_letters + string.digits, k=20)) for i in range(rg)]\n",
    "final['CLASSIFIERID_LOW'] = [''.join(random.choices(string.ascii_letters + string.digits, k=20)) for i in range(rg)]\n",
    "final['LANGUAGEID_LOW'] = [''.join(random.choices(string.ascii_letters + string.digits, k=20)) for i in range(rg)]\n",
    "final['CONFIDENCE_LOW'] = [''.join(random.choices(string.ascii_letters + string.digits, k=20)) for i in range(rg)]\n",
    "final['THREATTYPE'] = [''.join(random.choices(string.ascii_letters + string.digits, k=10)) for i in range(rg)]\n",
    "final['THREATINFO'] = [''.join(random.choices(string.ascii_letters + string.digits, k=20)) for i in range(rg)]\n",
    "final['THSOPHOS'] = [''.join(random.choices(string.ascii_letters + string.digits, k=1)) for i in range(rg)]\n",
    "final['THSOPHOSNAME'] = [''.join(random.choices(string.ascii_letters + string.digits, k=20)) for i in range(rg)]\n",
    "final['THRTAP'] = [''.join(random.choices(string.ascii_letters + string.digits, k=1)) for i in range(rg)]\n",
    "final['THRTAPSCORE'] = [random.randint(1,10) for i in range(rg)]\n",
    "final['THPE'] = [''.join(random.choices(string.ascii_letters + string.digits, k=1)) for i in range(rg)]\n",
    "final['THPESCORE'] = [float(decimal.Decimal(random.randrange(155, 389))/100) for i in range(rg)]\n",
    "final['THPENORM'] = [float(decimal.Decimal(random.randrange(155, 389))/100) for i in range(rg)]\n",
    "final['THPEFPR'] = [float(decimal.Decimal(random.randrange(155, 389))/100) for i in range(rg)]\n",
    "final['THPEFNR'] = [float(decimal.Decimal(random.randrange(155, 389))/100) for i in range(rg)]\n",
    "final['THGSB'] = [''.join(random.choices(string.ascii_letters + string.digits, k=1)) for i in range(rg)]\n",
    "final['THGSBTYPE'] = [''.join(random.choices(string.ascii_letters + string.digits, k=20)) for i in range(rg)]\n",
    "final['THSKY'] = [''.join(random.choices(string.ascii_letters + string.digits, k=1)) for i in range(rg)]\n",
    "final['THSKYMD5'] = [''.join(random.choices(string.ascii_letters + string.digits, k=20)) for i in range(rg)]\n",
    "final['THSKYDETDATE'] = [fake.past_datetime() for i in range(rg)]\n",
    "final['THSKYFILESIZE'] = [random.randint(10000,100000) for i in range(rg)]\n",
    "final['THSKYFSEEN'] = [fake.past_datetime() for i in range(rg)]\n",
    "final['THSKYMALWARE'] = [''.join(random.choices(string.ascii_letters + string.digits, k=20)) for i in range(rg)]\n",
    "final['THSKYPCCOUNT'] = [random.randint(10000,100000) for i in range(rg)]\n",
    "final['FILEMD5'] = [''.join(random.choices(string.ascii_letters + string.digits, k=20)) for i in range(rg)]\n",
    "final['THREAT'] = [random.randint(10000,100000) for i in range(rg)]\n",
    "final['THREATJS'] = [''.join(random.choices(string.ascii_letters + string.digits, k=20)) for i in range(rg)]\n",
    "final['THREATAPP'] = [''.join(random.choices(string.ascii_letters + string.digits, k=6)) for i in range(rg)]\n",
    "final['THREATAPPNAME'] = [''.join(random.choices(string.ascii_letters + string.digits, k=20)) for i in range(rg)]\n",
    "final['THREATAPPOS'] = [''.join(random.choices(string.ascii_letters + string.digits, k=20)) for i in range(rg)]\n",
    "final['THREATAPPREP'] = [''.join(random.choices(string.ascii_letters + string.digits, k=20)) for i in range(rg)]\n",
    "final['THPDF'] = [''.join(random.choices(string.ascii_letters + string.digits, k=1)) for i in range(rg)]\n",
    "final['THPDFSCORE'] = [float(decimal.Decimal(random.randrange(155, 389))/100) for i in range(rg)]\n",
    "final['THPDFNORM'] = [float(decimal.Decimal(random.randrange(155, 389))/100) for i in range(rg)]\n",
    "final['THPDFFPR'] = [float(decimal.Decimal(random.randrange(155, 389))/100) for i in range(rg)]\n",
    "final['THPDFFNR'] = [float(decimal.Decimal(random.randrange(155, 389))/100) for i in range(rg)]\n",
    "final['ORIGINHASH'] = [''.join(random.choices(string.ascii_letters + string.digits, k=20)) for i in range(rg)]\n",
    "final['TYPE'] = [''.join(random.choices(string.ascii_letters + string.digits, k=20)) for i in range(rg)]\n",
    "final['XPOWEREDBY'] = [''.join(random.choices(string.ascii_letters + string.digits, k=20)) for i in range(rg)]\n",
    "final['THREATPESTATIC'] = [''.join(random.choices(string.ascii_letters + string.digits, k=1)) for i in range(rg)]\n",
    "final['THREATPESTATICSCORE'] = [float(decimal.Decimal(random.randrange(155, 389))/100) for i in range(rg)]"
   ]
  },
  {
   "cell_type": "code",
   "execution_count": 11,
   "metadata": {},
   "outputs": [],
   "source": [
    "output_df = pd.DataFrame(final)"
   ]
  },
  {
   "cell_type": "code",
   "execution_count": 12,
   "metadata": {},
   "outputs": [
    {
     "data": {
      "text/plain": [
       "(20000, 68)"
      ]
     },
     "execution_count": 12,
     "metadata": {},
     "output_type": "execute_result"
    }
   ],
   "source": [
    "output_df.shape"
   ]
  },
  {
   "cell_type": "code",
   "execution_count": 13,
   "metadata": {},
   "outputs": [
    {
     "data": {
      "text/plain": [
       "0        3QPar1\n",
       "1        0cVZ4f\n",
       "2        tWgXoR\n",
       "3        msBpaT\n",
       "4        lbYn4z\n",
       "          ...  \n",
       "19995    5jzSDV\n",
       "19996    tY6Fhk\n",
       "19997    mcuIAM\n",
       "19998    ga5sra\n",
       "19999    9eLqk2\n",
       "Name: THREATAPP, Length: 20000, dtype: object"
      ]
     },
     "execution_count": 13,
     "metadata": {},
     "output_type": "execute_result"
    }
   ],
   "source": [
    "output_df['THREATAPP']"
   ]
  },
  {
   "cell_type": "code",
   "execution_count": 14,
   "metadata": {},
   "outputs": [],
   "source": [
    "output_df.to_csv('URL_HISTORY_twentyk.csv', index=False)"
   ]
  },
  {
   "cell_type": "code",
   "execution_count": 89,
   "metadata": {},
   "outputs": [],
   "source": [
    "del output_df"
   ]
  },
  {
   "cell_type": "markdown",
   "metadata": {},
   "source": [
    "URL_LINKS"
   ]
  },
  {
   "cell_type": "code",
   "execution_count": 90,
   "metadata": {},
   "outputs": [],
   "source": [
    "final = {} \n",
    "#URL_LINKS\n",
    "rg = 20000\n",
    "final['URLHASH'] = [''.join(random.choices(string.ascii_letters + string.digits, k=32)) for i in range(rg)]\n",
    "final['DATECRAWLED'] = [fake.past_datetime() for i in range(rg)]\n",
    "final['LINKHASH'] = [''.join(random.choices(string.ascii_letters + string.digits, k=32)) for i in range(rg)]\n",
    "final['LINK'] = [''.join(random.choices(string.ascii_letters + string.digits, k=20)) for i in range(rg)]\n",
    "final['FQDN'] = [''.join(random.choices(string.ascii_letters + string.digits, k=20)) for i in range(rg)]\n",
    "final['LINKFQDNHASH'] = [''.join(random.choices(string.ascii_letters + string.digits, k=20)) for i in range(rg)]\n",
    "final['EXTERNALLINK'] = [random.randint(10,100) for i in range(rg)]"
   ]
  },
  {
   "cell_type": "code",
   "execution_count": 91,
   "metadata": {},
   "outputs": [],
   "source": [
    "output_df = pd.DataFrame(final)"
   ]
  },
  {
   "cell_type": "code",
   "execution_count": 92,
   "metadata": {},
   "outputs": [
    {
     "data": {
      "text/plain": [
       "(20000, 7)"
      ]
     },
     "execution_count": 92,
     "metadata": {},
     "output_type": "execute_result"
    }
   ],
   "source": [
    "output_df.shape"
   ]
  },
  {
   "cell_type": "code",
   "execution_count": 93,
   "metadata": {},
   "outputs": [],
   "source": [
    "output_df.to_csv('URL_LINKS_twentyk.csv', index=False)"
   ]
  },
  {
   "cell_type": "code",
   "execution_count": 94,
   "metadata": {},
   "outputs": [],
   "source": [
    "del output_df"
   ]
  },
  {
   "cell_type": "code",
   "execution_count": null,
   "metadata": {},
   "outputs": [],
   "source": []
  },
  {
   "cell_type": "markdown",
   "metadata": {},
   "source": [
    "Creating time series data"
   ]
  },
  {
   "cell_type": "code",
   "execution_count": null,
   "metadata": {},
   "outputs": [],
   "source": [
    "!pip3 install TimeSynth"
   ]
  },
  {
   "cell_type": "code",
   "execution_count": null,
   "metadata": {},
   "outputs": [],
   "source": [
    "import timesynth as ts"
   ]
  },
  {
   "cell_type": "code",
   "execution_count": null,
   "metadata": {},
   "outputs": [],
   "source": [
    "# Initializing TimeSampler\n",
    "time_sampler = ts.TimeSampler(stop_time=100)\n",
    "# Sampling irregular time samples\n",
    "irregular_time_samples = time_sampler.sample_irregular_time(num_points=500, keep_percentage=50)"
   ]
  },
  {
   "cell_type": "code",
   "execution_count": null,
   "metadata": {},
   "outputs": [],
   "source": [
    "# Initializing Sinusoidal signal\n",
    "sinusoid = ts.signals.Sinusoidal(frequency=0.3)"
   ]
  },
  {
   "cell_type": "code",
   "execution_count": null,
   "metadata": {},
   "outputs": [],
   "source": [
    "# Initializing Gaussian noise\n",
    "white_noise = ts.noise.GaussianNoise(std=.3)"
   ]
  },
  {
   "cell_type": "code",
   "execution_count": null,
   "metadata": {},
   "outputs": [],
   "source": [
    "# Initializing TimeSeries class with the signal and noise objects\n",
    "timeseries = ts.TimeSeries(sinusoid, noise_generator=white_noise)"
   ]
  },
  {
   "cell_type": "code",
   "execution_count": null,
   "metadata": {},
   "outputs": [],
   "source": [
    "# Sampling using the irregular time samples\n",
    "samples, signals, errors = timeseries.sample(irregular_time_samples)"
   ]
  },
  {
   "cell_type": "code",
   "execution_count": null,
   "metadata": {},
   "outputs": [],
   "source": [
    "# Plotting the series\n",
    "plt.plot(irregular_time_samples, samples+50, marker='o', markersize=4)\n",
    "plt.xlabel('Time')\n",
    "plt.ylabel('Magnitude')\n",
    "plt.title('Irregularly sampled sinusoid with noise');"
   ]
  },
  {
   "cell_type": "code",
   "execution_count": null,
   "metadata": {},
   "outputs": [],
   "source": [
    "# Initializing Gaussian noise\n",
    "red_noise = ts.noise.RedNoise(std=0.5, tau=0.8)"
   ]
  },
  {
   "cell_type": "code",
   "execution_count": null,
   "metadata": {},
   "outputs": [],
   "source": [
    "# Initializing TimeSeries class with the signal and noise objects\n",
    "timeseries_corr = ts.TimeSeries(sinusoid, noise_generator=red_noise)"
   ]
  },
  {
   "cell_type": "code",
   "execution_count": null,
   "metadata": {},
   "outputs": [],
   "source": [
    "# Sampling using the irregular time samples\n",
    "samples_corr, signals_corr, errors_corr = timeseries_corr.sample(irregular_time_samples)"
   ]
  },
  {
   "cell_type": "code",
   "execution_count": null,
   "metadata": {},
   "outputs": [],
   "source": [
    "# Plotting the series\n",
    "plt.plot(irregular_time_samples, samples_corr, marker='o')\n",
    "plt.xlabel('Time')\n",
    "plt.ylabel('Magnitude')\n",
    "plt.title('Irregularly sampled sinusoid with red noise')"
   ]
  },
  {
   "cell_type": "code",
   "execution_count": null,
   "metadata": {},
   "outputs": [],
   "source": [
    "plt.plot(irregular_time_samples, errors_corr, marker='o')\n",
    "plt.xlabel('Time')\n",
    "plt.ylabel('Magnitude')\n",
    "plt.title('Red noise');"
   ]
  },
  {
   "cell_type": "code",
   "execution_count": null,
   "metadata": {},
   "outputs": [],
   "source": [
    "\n",
    "# Initializing TimeSampler\n",
    "time_sampler_pp = ts.TimeSampler(stop_time=20)\n",
    "# Sampling irregular time samples\n",
    "irregular_time_samples_pp = time_sampler_pp.sample_irregular_time(resolution=0.05, keep_percentage=50)"
   ]
  },
  {
   "cell_type": "code",
   "execution_count": null,
   "metadata": {},
   "outputs": [],
   "source": [
    "\n",
    "# Initializing Pseudoperiodic signal\n",
    "pseudo_periodic = ts.signals.PseudoPeriodic(frequency=2, freqSD=0.01, ampSD=0.5)"
   ]
  },
  {
   "cell_type": "code",
   "execution_count": null,
   "metadata": {},
   "outputs": [],
   "source": [
    "# Initializing TimeSeries class with the pseudoperiodic signal\n",
    "timeseries_pp = ts.TimeSeries(pseudo_periodic)"
   ]
  },
  {
   "cell_type": "code",
   "execution_count": null,
   "metadata": {},
   "outputs": [],
   "source": [
    "\n",
    "# Sampling using the irregular time samples\n",
    "samples_pp, signals_pp, errors_pp = timeseries_pp.sample(irregular_time_samples_pp)"
   ]
  },
  {
   "cell_type": "code",
   "execution_count": null,
   "metadata": {},
   "outputs": [],
   "source": [
    "# Plotting the series\n",
    "plt.plot(irregular_time_samples_pp, samples_pp, marker='o')\n",
    "plt.xlabel('Time')\n",
    "plt.ylabel('Magnitude')\n",
    "plt.title('Pseudoperiodic signal');"
   ]
  },
  {
   "cell_type": "code",
   "execution_count": null,
   "metadata": {},
   "outputs": [],
   "source": [
    "gp = ts.signals.GaussianProcess(kernel='Matern', nu=3./2)\n",
    "gp_series = ts.TimeSeries(signal_generator=gp)\n",
    "samples = gp_series.sample(irregular_time_samples)[0]"
   ]
  },
  {
   "cell_type": "code",
   "execution_count": null,
   "metadata": {},
   "outputs": [],
   "source": [
    "plt.plot(irregular_time_samples, samples, marker='o', markersize=4)\n",
    "plt.xlabel('Time')\n",
    "plt.ylabel('Value')\n",
    "plt.title('Gaussian Process signal with Matern 3/2-kernel');"
   ]
  },
  {
   "cell_type": "code",
   "execution_count": null,
   "metadata": {},
   "outputs": [],
   "source": [
    "car = ts.signals.CAR(ar_param=.99, sigma=5)\n",
    "car_series = ts.TimeSeries(signal_generator=car)\n",
    "samples = car_series.sample(irregular_time_samples)"
   ]
  },
  {
   "cell_type": "code",
   "execution_count": null,
   "metadata": {},
   "outputs": [],
   "source": [
    "plt.plot(irregular_time_samples, (samples[0]+35)*15, marker='o', markersize=4)\n",
    "plt.xlabel('Time')\n",
    "plt.ylabel('Value')\n",
    "plt.title('Example Continuous Autoregressive process');"
   ]
  },
  {
   "cell_type": "code",
   "execution_count": null,
   "metadata": {},
   "outputs": [],
   "source": [
    "import random"
   ]
  },
  {
   "cell_type": "code",
   "execution_count": null,
   "metadata": {},
   "outputs": [],
   "source": [
    "def create_cont_autoreg_process(n):\n",
    "    \n",
    "    dat = []\n",
    "    \n",
    "    sigma = 20\n",
    "    ar_param = .2\n",
    "    car = ts.signals.CAR(ar_param=ar_param, sigma=sigma)\n",
    "    car_series = ts.TimeSeries(signal_generator=car)\n",
    "    samples = car_series.sample(irregular_time_samples)\n",
    "    \n",
    "    dat.append((samples[0] + ar_param +5) * sigma)\n",
    "    \n",
    "    sigma = 4\n",
    "    ar_param = .2\n",
    "    car = ts.signals.CAR(ar_param=ar_param, sigma=sigma)\n",
    "    car_series = ts.TimeSeries(signal_generator=car)\n",
    "    samples = car_series.sample(irregular_time_samples)    \n",
    "    \n",
    "    dat.append((samples[0] + ar_param +5) * sigma)\n",
    "    \n",
    "    for i in range(n):\n",
    "        sigma = random.randint(1,35)\n",
    "        ar_param = random.randint(1,10)\n",
    "        car = ts.signals.CAR(ar_param=ar_param/10, sigma=sigma)\n",
    "        car_series = ts.TimeSeries(signal_generator=car)\n",
    "        samples = car_series.sample(irregular_time_samples)\n",
    "        \n",
    "        dat.append((samples[0] + ar_param +5) * sigma)\n",
    "        \n",
    "    return dat"
   ]
  },
  {
   "cell_type": "code",
   "execution_count": null,
   "metadata": {},
   "outputs": [],
   "source": [
    "ex = create_cont_autoreg_process(50)"
   ]
  },
  {
   "cell_type": "code",
   "execution_count": null,
   "metadata": {},
   "outputs": [],
   "source": [
    "for i in ex:\n",
    "    i[i<0] = 0"
   ]
  },
  {
   "cell_type": "code",
   "execution_count": null,
   "metadata": {},
   "outputs": [],
   "source": [
    "spend_df = pd.DataFrame(ex)"
   ]
  },
  {
   "cell_type": "code",
   "execution_count": null,
   "metadata": {},
   "outputs": [],
   "source": [
    "spend_df.to_csv('data/spend_new.csv', index=False)"
   ]
  },
  {
   "cell_type": "code",
   "execution_count": null,
   "metadata": {},
   "outputs": [],
   "source": []
  }
 ],
 "metadata": {
  "kernelspec": {
   "display_name": "Python 3",
   "language": "python",
   "name": "python3"
  },
  "language_info": {
   "codemirror_mode": {
    "name": "ipython",
    "version": 3
   },
   "file_extension": ".py",
   "mimetype": "text/x-python",
   "name": "python",
   "nbconvert_exporter": "python",
   "pygments_lexer": "ipython3",
   "version": "3.6.9"
  }
 },
 "nbformat": 4,
 "nbformat_minor": 4
}
